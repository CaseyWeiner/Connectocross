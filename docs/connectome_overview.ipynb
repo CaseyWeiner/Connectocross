{
 "cells": [
  {
   "cell_type": "markdown",
   "id": "decimal-faith",
   "metadata": {},
   "source": [
    "# Connectome Overview, Basic Statistics, and Visualizations #"
   ]
  },
  {
   "cell_type": "markdown",
   "id": "greatest-poland",
   "metadata": {
    "pycharm": {
     "name": "#%% md\n"
    }
   },
   "source": [
    "This notebook provides an overview of the 14 connectomes available in the connectocross repository, along with visualizations of each one and some basic statistics"
   ]
  },
  {
   "cell_type": "code",
   "execution_count": null,
   "id": "suffering-adrian",
   "metadata": {},
   "outputs": [],
   "source": [
    "import os\n",
    "import sys\n",
    "sys.path.append(\"../\")\n",
    "import graspologic as gr\n",
    "import networkx as nx\n",
    "from graph import GraphIO\n",
    "import pandas as pd"
   ]
  },
  {
   "cell_type": "markdown",
   "id": "absolute-march",
   "metadata": {},
   "source": [
    "## Ciona Intestinalis Larval Connectome ##\n",
    "\n",
    "This is a very detailed connectome of the ascidian tadpole larva create via careful EM imaging. Multiple hermaphroditic individuals were imaged. The original study was looking for topological asymmetries between hemispheres in Ciona's central nervous system (CNS). The connectome includes mostly CNS Neurons.\n",
    "\n",
    "{cite}`ryan_cns_2016`"
   ]
  },
  {
   "cell_type": "code",
   "execution_count": null,
   "id": "average-stereo",
   "metadata": {},
   "outputs": [],
   "source": [
    "path = '../json_connectomes/ciona.json'\n",
    "connectome, _, _, _ = GraphIO.load(path)"
   ]
  },
  {
   "cell_type": "markdown",
   "id": "dimensional-milwaukee",
   "metadata": {
    "pycharm": {
     "name": "#%% md\n"
    }
   },
   "source": [
    "Now we generate a 2-dimmensional node layout using Graspologic's `layout_tnse`. This function creates a layout that shows\n",
    "the community structure of the data."
   ]
  },
  {
   "cell_type": "code",
   "execution_count": null,
   "id": "radio-forum",
   "metadata": {
    "pycharm": {
     "name": "#%%\n"
    }
   },
   "outputs": [],
   "source": [
    "undirected_connectome = nx.convert_node_labels_to_integers(connectome.to_undirected())\n",
    "undirected_connectome, layout = gr.layouts.layout_tsne(undirected_connectome,\n",
    "                                                       perplexity=20,\n",
    "                                                       n_iter=1000000)"
   ]
  },
  {
   "cell_type": "markdown",
   "id": "systematic-seeking",
   "metadata": {
    "pycharm": {
     "name": "#%% md\n"
    }
   },
   "source": [
    "Next we must assign a color to the nodes in the graph. Here we base the colors on node \"Side\" attributes. Left is Blue,\n",
    "Right is Red, and Medial is Purple. Nodes without a side attribute are grey."
   ]
  },
  {
   "cell_type": "code",
   "execution_count": null,
   "id": "civilian-antique",
   "metadata": {},
   "outputs": [],
   "source": [
    "\n",
    "color_map = {}\n",
    "side_map = {'L': '#FF0000', 'DL': '#B22222', 'VL': '#F08080',\n",
    "            'R': '#0000FF', 'DR': '#00008B', 'VR': '#87CEEB',\n",
    "            'DM': '#800080', 'D': '#800080', 'VM': '#BA55D3',\n",
    "            None: '#A9A9A9'}\n",
    "\n",
    "for node in undirected_connectome.nodes(data=True):\n",
    "    try:\n",
    "        side = node[1]['Side'].strip()\n",
    "    except KeyError:\n",
    "        side = None\n",
    "    color_map[node[0]] = side_map[side]"
   ]
  },
  {
   "cell_type": "markdown",
   "id": "usual-lemon",
   "metadata": {
    "pycharm": {
     "name": "#%% md\n"
    }
   },
   "source": [
    "Now we will show the generated and colored layout"
   ]
  },
  {
   "cell_type": "code",
   "execution_count": null,
   "id": "formed-viking",
   "metadata": {
    "pycharm": {
     "name": "#%%\n"
    }
   },
   "outputs": [],
   "source": [
    "gr.layouts.show_graph(undirected_connectome, layout, color_map,\n",
    "                      vertex_shape='.', vertex_alpha=1.,\n",
    "                      edge_alpha=.2, edge_line_width=2.)"
   ]
  },
  {
   "cell_type": "markdown",
   "id": "improved-kruger",
   "metadata": {
    "pycharm": {
     "name": "#%% md\n"
    }
   },
   "source": [
    "Now lets display some basic graph statistics:"
   ]
  },
  {
   "cell_type": "code",
   "execution_count": null,
   "id": "coupled-server",
   "metadata": {
    "pycharm": {
     "name": "#%%\n"
    }
   },
   "outputs": [],
   "source": [
    "data = {'Number of Nodes': [],\n",
    "        'Number of Edges': [],\n",
    "        'Density': [],\n",
    "        'Max Out Degree': [],\n",
    "        'Max In Degree': []}\n",
    "num_nodes = len(connectome.nodes)\n",
    "data['Number of Nodes'].append(num_nodes)\n",
    "num_edges = len(connectome.edges)\n",
    "data['Number of Edges'].append(num_edges)\n",
    "data['Density'].append(num_edges / (num_nodes * (num_nodes - 1)))\n",
    "data['Max Out Degree'].append(max(connectome.out_degree, key=lambda x: x[1])[1])\n",
    "data['Max In Degree'].append(max(connectome.in_degree, key=lambda x: x[1])[1])\n",
    "df = pd.DataFrame.from_dict(data)\n",
    "df.index = ['Ciona Intestinalis',]\n",
    "df.head()"
   ]
  },
  {
   "cell_type": "markdown",
   "id": "durable-replacement",
   "metadata": {
    "pycharm": {
     "name": "#%% md\n"
    }
   },
   "source": [
    "## C. Elegans: Connectomes Over Development ##\n",
    "\n",
    "This dataset seeks to elucidate how connectomes change over development. Eight different EM connectomes were constructed\n",
    "from C. Elegans Hermaphrodites at evenly spaced time intervals from birth until adulthood.\n",
    "\n",
    "{cite}`witvliet_connectomes_2020`\n",
    "\n",
    "When loading the connectomes below, we must flatten the multigraphs. This is because chemical and electrical synapses are included, so some nodes\n",
    "may have two pairs of edges between them. Here we rectify this by summing weights of multiedges (the default mode for `GraphIO.flatten_multigraph`)"
   ]
  },
  {
   "cell_type": "code",
   "execution_count": null,
   "id": "announced-assist",
   "metadata": {
    "pycharm": {
     "name": "#%%\n"
    }
   },
   "outputs": [],
   "source": [
    "# load some elegans witvilet data\n",
    "base = '../json_connectomes/witvilet/'\n",
    "graph_files = sorted(os.listdir(base))\n",
    "connectomes = []\n",
    "for f in graph_files:\n",
    "    connectomes.append(GraphIO.flatten_multigraph(GraphIO.load(os.path.join(base, f))[0]))"
   ]
  },
  {
   "cell_type": "markdown",
   "id": "chubby-company",
   "metadata": {
    "pycharm": {
     "name": "#%% md\n"
    }
   },
   "source": [
    "We follow the same steps as for Ciona (above) to generate visualizations, only here we loop over all 8 connectomes."
   ]
  },
  {
   "cell_type": "code",
   "execution_count": null,
   "id": "retired-trace",
   "metadata": {
    "pycharm": {
     "name": "#%%\n"
    }
   },
   "outputs": [],
   "source": [
    "layouts = [None]*len(connectomes)\n",
    "undirected_cleaned = [None]*len(connectomes)\n",
    "for i, connectome in enumerate(connectomes):\n",
    "    temp_g = nx.convert_node_labels_to_integers(connectome.to_undirected())\n",
    "    undirected_cleaned[i], layouts[i] = gr.layouts.layout_tsne(temp_g,\n",
    "                                                               perplexity=20,\n",
    "                                                               n_iter=10000000)\n"
   ]
  },
  {
   "cell_type": "code",
   "execution_count": null,
   "id": "spectacular-emerald",
   "metadata": {
    "pycharm": {
     "name": "#%%\n"
    }
   },
   "outputs": [],
   "source": [
    "color_maps = [{} for i in range(len(connectome))]\n",
    "hemi_map = {'left': '#FF0000',\n",
    "            'right': '#0000FF',\n",
    "            None: '#A9A9A9'}\n",
    "for i, connectome in enumerate(undirected_cleaned):\n",
    "    for node in connectome.nodes(data=True):\n",
    "        try:\n",
    "            side = node[1]['hemisphere'].strip()\n",
    "        except (AttributeError, KeyError):\n",
    "            side = None\n",
    "        color_maps[i][node[0]] = hemi_map[side]"
   ]
  },
  {
   "cell_type": "code",
   "execution_count": null,
   "id": "violent-billion",
   "metadata": {
    "pycharm": {
     "name": "#%%\n"
    }
   },
   "outputs": [],
   "source": [
    "for i in range(len(layouts)):\n",
    "    print('C. Elegans, Stage ' + str(i + 1))\n",
    "    gr.layouts.show_graph(undirected_cleaned[i].to_undirected(), layouts[i], color_maps[i],\n",
    "                          vertex_shape='.', vertex_alpha=1.,\n",
    "                          edge_alpha=.2, edge_line_width=2.,)"
   ]
  },
  {
   "cell_type": "markdown",
   "id": "dependent-hampton",
   "metadata": {
    "pycharm": {
     "name": "#%% md\n"
    }
   },
   "source": [
    "Once again, lets get some basic stats for each connectome."
   ]
  },
  {
   "cell_type": "code",
   "execution_count": null,
   "id": "fitting-reserve",
   "metadata": {
    "pycharm": {
     "name": "#%%\n"
    }
   },
   "outputs": [],
   "source": [
    "data = {'Number of Nodes': [],\n",
    "        'Number of Edges': [],\n",
    "        'Density': [],\n",
    "        'Max Out Degree': [],\n",
    "        'Max In Degree': []}\n",
    "for i, connectome in enumerate(connectomes):\n",
    "    num_nodes = len(connectome.nodes)\n",
    "    data['Number of Nodes'].append(num_nodes)\n",
    "    num_edges = len(connectome.edges)\n",
    "    data['Number of Edges'].append(num_edges)\n",
    "    data['Density'].append(num_edges / (num_nodes * (num_nodes - 1)))\n",
    "    data['Max Out Degree'].append(max(connectome.out_degree, key=lambda x: x[1])[1])\n",
    "    data['Max In Degree'].append(max(connectome.in_degree, key=lambda x: x[1])[1])\n",
    "\n",
    "df = pd.DataFrame.from_dict(data)\n",
    "df.index = ['C. Elegans: stage 1',\n",
    "            'C. Elegans: stage 2',\n",
    "            'C. Elegans: stage 3',\n",
    "            'C. Elegans: stage 4',\n",
    "            'C. Elegans: stage 5',\n",
    "            'C. Elegans: stage 6',\n",
    "            'C. Elegans: stage 7',\n",
    "            'C. Elegans: stage 8',]\n",
    "df.head(8)"
   ]
  },
  {
   "cell_type": "markdown",
   "id": "announced-vampire",
   "metadata": {
    "pycharm": {
     "name": "#%% md\n"
    }
   },
   "source": [
    "## C. Elegens: Worm Wiring Connectome, Hermaphrodite and Male ##\n",
    "\n",
    "This dataset contains full, detailed, connectomes for both C. Elegans sexes. Data for chemical and electrical synapses is contained in this repository,\n",
    "but here we look more deeply at the chemical connectome.\n",
    "\n",
    "{cite}`cook_whole-animal_2019`\n",
    "\n",
    "Again, visualization and analysis is done as before."
   ]
  },
  {
   "cell_type": "code",
   "execution_count": null,
   "id": "missing-baking",
   "metadata": {
    "pycharm": {
     "name": "#%%\n"
    }
   },
   "outputs": [],
   "source": [
    "# load chemical synapse connectome files\n",
    "path_h = '../json_connectomes/worm_wiring/connectome/Hermaphrodite/0.json'\n",
    "path_m = '../json_connectomes/worm_wiring/connectome/Male/0.json'\n",
    "connectomes = []\n",
    "connectomes.append(GraphIO.load(path_h)[0])\n",
    "connectomes.append(GraphIO.load(path_m)[0])\n"
   ]
  },
  {
   "cell_type": "code",
   "execution_count": null,
   "id": "martial-express",
   "metadata": {
    "pycharm": {
     "is_executing": true,
     "name": "#%%\n"
    }
   },
   "outputs": [],
   "source": [
    "layouts = [None]*len(connectomes)\n",
    "undirected_cleaned = [None]*len(connectomes)\n",
    "for i, connectome in enumerate(connectomes):\n",
    "    temp_g = nx.convert_node_labels_to_integers(connectome.to_undirected())\n",
    "    undirected_cleaned[i], layouts[i] = gr.layouts.layout_tsne(temp_g,\n",
    "                                                               perplexity=20,\n",
    "                                                               n_iter=10000000)"
   ]
  },
  {
   "cell_type": "code",
   "execution_count": null,
   "id": "aware-hurricane",
   "metadata": {
    "pycharm": {
     "is_executing": true,
     "name": "#%%\n"
    }
   },
   "outputs": [],
   "source": [
    "color_maps = [{} for i in range(len(connectome))]\n",
    "hemi_map = {'left': '#FF0000',\n",
    "            'right': '#0000FF',\n",
    "            None: '#A9A9A9'}\n",
    "for i, connectome in enumerate(undirected_cleaned):\n",
    "    for node in connectome.nodes(data=True):\n",
    "        try:\n",
    "            side = node[1]['hemisphere'].strip()\n",
    "        except (AttributeError, KeyError):\n",
    "            side = None\n",
    "        color_maps[i][node[0]] = hemi_map[side]"
   ]
  },
  {
   "cell_type": "code",
   "execution_count": null,
   "id": "recent-allah",
   "metadata": {
    "pycharm": {
     "is_executing": true,
     "name": "#%%\n"
    }
   },
   "outputs": [],
   "source": [
    "labels = ['Hermaphrodite Connectome', 'Male Connectome']\n",
    "for i in range(len(layouts)):\n",
    "    print(labels[i])\n",
    "    gr.layouts.show_graph(undirected_cleaned[i].to_undirected(),\n",
    "                          layouts[i], color_maps[i],\n",
    "                          vertex_shape='.', vertex_alpha=1.,\n",
    "                          edge_alpha=.2, edge_line_width=2.)\n"
   ]
  },
  {
   "cell_type": "markdown",
   "id": "catholic-holocaust",
   "metadata": {
    "pycharm": {
     "name": "#%% md\n"
    }
   },
   "source": [
    "Now let's get the basic graph statistics."
   ]
  },
  {
   "cell_type": "code",
   "execution_count": null,
   "id": "entitled-bangladesh",
   "metadata": {
    "pycharm": {
     "is_executing": true,
     "name": "#%%\n"
    }
   },
   "outputs": [],
   "source": [
    "data = {'Number of Nodes': [],\n",
    "        'Number of Edges': [],\n",
    "        'Density': [],\n",
    "        'Max Out Degree': [],\n",
    "        'Max In Degree': []}\n",
    "for i, connectome in enumerate(connectomes):\n",
    "    num_nodes = len(connectome.nodes)\n",
    "    data['Number of Nodes'].append(num_nodes)\n",
    "    num_edges = len(connectome.edges)\n",
    "    data['Number of Edges'].append(num_edges)\n",
    "    data['Density'].append(num_edges / (num_nodes * (num_nodes - 1)))\n",
    "    data['Max Out Degree'].append(max(connectome.out_degree, key=lambda x: x[1])[1])\n",
    "    data['Max In Degree'].append(max(connectome.in_degree, key=lambda x: x[1])[1])\n",
    "\n",
    "df = pd.DataFrame.from_dict(data)\n",
    "df.index = ['C. Elegans: Worm Wiring, Hermaphrodite, Chemical',\n",
    "            'C. Elegans: Worm Wiring, Male, Chemical']\n",
    "df.head(2)"
   ]
  },
  {
   "cell_type": "markdown",
   "id": "metallic-continent",
   "metadata": {
    "pycharm": {
     "name": "#%% md\n"
    }
   },
   "source": [
    "## Drosophila (FAFB Dataset): Mushroom Body ##\n",
    "\n",
    "Using new High Throughput Electron Micrography data, this dataset contains a subset of the whole Fly Brain Connectome, namely the mushroom body. This dataset is much smaller than the others, because it focuses\n",
    "on a specific neural circuit.\n",
    "\n",
    "{cite}`zheng_complete_2018`\n"
   ]
  },
  {
   "cell_type": "code",
   "execution_count": null,
   "id": "considered-efficiency",
   "metadata": {
    "pycharm": {
     "is_executing": true,
     "name": "#%%\n"
    }
   },
   "outputs": [],
   "source": [
    "path = '../json_connectomes/fafb.json'\n",
    "connectome, _, _, _ = GraphIO.load(path)"
   ]
  },
  {
   "cell_type": "code",
   "execution_count": null,
   "id": "informational-attendance",
   "metadata": {
    "pycharm": {
     "is_executing": true,
     "name": "#%%\n"
    }
   },
   "outputs": [],
   "source": [
    "undirected_cleaned, layout = gr.layouts.layout_tsne(connectome.to_undirected(),\n",
    "                                                    perplexity=20, n_iter=1000)"
   ]
  },
  {
   "cell_type": "code",
   "execution_count": null,
   "id": "unlike-cheese",
   "metadata": {
    "pycharm": {
     "is_executing": true,
     "name": "#%%\n"
    }
   },
   "outputs": [],
   "source": [
    "color_map = {}\n",
    "side_map = {'L': '#FF0000',\n",
    "            'R': '#0000FF',\n",
    "            None: '#A9A9A9'}\n",
    "\n",
    "for node in connectome.nodes(data=True):\n",
    "    try:\n",
    "        side = node[1]['Side'].strip()\n",
    "    except (KeyError, AttributeError):\n",
    "        side = None\n",
    "    color_map[node[0]] = side_map[side]"
   ]
  },
  {
   "cell_type": "code",
   "execution_count": null,
   "id": "spectacular-indicator",
   "metadata": {
    "pycharm": {
     "is_executing": true,
     "name": "#%%\n"
    }
   },
   "outputs": [],
   "source": [
    "gr.layouts.show_graph(undirected_cleaned, layout, color_map,\n",
    "                      vertex_shape='.', vertex_alpha=1.,\n",
    "                      edge_alpha=.2, edge_line_width=2.)"
   ]
  },
  {
   "cell_type": "markdown",
   "id": "medium-circus",
   "metadata": {},
   "source": [
    "FAFB Basic Statistics:"
   ]
  },
  {
   "cell_type": "code",
   "execution_count": null,
   "id": "interesting-killer",
   "metadata": {
    "pycharm": {
     "is_executing": true,
     "name": "#%%\n"
    }
   },
   "outputs": [],
   "source": [
    "num_nodes = len(connectome.nodes)\n",
    "num_edges = len(connectome.edges)\n",
    "density = num_edges / (num_nodes * (num_nodes - 1))\n",
    "data = {'Number of Nodes': [num_nodes],\n",
    "        'Number of Edges': [num_edges],\n",
    "        'Density': [density],\n",
    "        'Max Out Degree': max(connectome.out_degree, key=lambda x: x[1])[1],\n",
    "        'Max In Degree': max(connectome.in_degree, key=lambda x: x[1])[1]}\n",
    "df = pd.DataFrame.from_dict(data)\n",
    "df.index = ['FAFB Connectome']\n",
    "df.head()"
   ]
  },
  {
   "cell_type": "markdown",
   "id": "existing-yemen",
   "metadata": {
    "pycharm": {
     "name": "#%% md\n"
    }
   },
   "source": [
    "## Drosophila Hemibrain Connectome ##\n",
    "\n",
    "Largest synaptic level connectome ever recorded, includes large portion of a fly's CNS. Imaged using a combination of EM and\n",
    "light microscopy.\n",
    "\n",
    "{cite}`xu_connectome_2020`\n",
    "\n",
    "This connectome is much larger than the others, so some steps will take longer to run."
   ]
  },
  {
   "cell_type": "code",
   "execution_count": null,
   "id": "seven-highway",
   "metadata": {
    "pycharm": {
     "is_executing": true,
     "name": "#%%\n"
    }
   },
   "outputs": [],
   "source": [
    "path = '../json_connectomes/neuPrint_graphs.json'\n",
    "connectome, _, _, _ = GraphIO.load(path)"
   ]
  },
  {
   "cell_type": "markdown",
   "id": "extensive-myanmar",
   "metadata": {
    "pycharm": {
     "name": "#%% md\n"
    }
   },
   "source": [
    "We can't visualize this connectome using grapological layouts becuase it is too large! We can still get the basic stats though:\n"
   ]
  },
  {
   "cell_type": "code",
   "execution_count": null,
   "id": "mental-modern",
   "metadata": {
    "pycharm": {
     "is_executing": true
    }
   },
   "outputs": [],
   "source": [
    "num_nodes = len(connectome.nodes)\n",
    "num_edges = len(connectome.edges)\n",
    "density = num_edges / (num_nodes * (num_nodes - 1))\n",
    "data = {'Number of Nodes': [num_nodes],\n",
    "        'Number of Edges': [num_edges],\n",
    "        'Density': [density],\n",
    "        'Max Out Degree': max(connectome.out_degree, key=lambda x: x[1])[1],\n",
    "        'Max In Degree': max(connectome.in_degree, key=lambda x: x[1])[1]}\n",
    "df = pd.DataFrame.from_dict(data)\n",
    "df.index = ['Drosophila Hemibrain Connectome']\n",
    "df.head()\n"
   ]
  },
  {
   "cell_type": "code",
   "execution_count": null,
   "id": "phantom-event",
   "metadata": {
    "pycharm": {
     "is_executing": true
    }
   },
   "outputs": [],
   "source": []
  }
 ],
 "metadata": {
  "kernelspec": {
   "display_name": "PyCharm (graspologic)",
   "language": "python",
   "name": "pycharm-372e3f5b"
  },
  "language_info": {
   "codemirror_mode": {
    "name": "ipython",
    "version": 3
   },
   "file_extension": ".py",
   "mimetype": "text/x-python",
   "name": "python",
   "nbconvert_exporter": "python",
   "pygments_lexer": "ipython3",
   "version": "3.7.9"
  }
 },
 "nbformat": 4,
 "nbformat_minor": 5
}