{
 "cells": [
  {
   "cell_type": "markdown",
   "metadata": {},
   "source": [
    "# Graph Statistics"
   ]
  },
  {
   "cell_type": "markdown",
   "metadata": {},
   "source": [
    "In this notebook, I will show how to obtain basic graph statistics (number of nodes, density, etc.) from the graphs stored in our filespec."
   ]
  },
  {
   "cell_type": "markdown",
   "metadata": {},
   "source": [
    "## Load the Graphs"
   ]
  },
  {
   "cell_type": "code",
   "execution_count": 94,
   "metadata": {},
   "outputs": [
    {
     "name": "stdout",
     "output_type": "stream",
     "text": [
      "g.graph= {'Title': 'L4 nerve ring neighbors'}\n",
      "g.graph= {'Title': 'Adult nerve ring neighbors'}\n",
      "g.graph= {'Title': 'Cell Class Adjacency Matrices  These are whole-animal connectivity matrices based on the cell classes listed in Supplementary Information 6.  The data are the same (number of EM serial sections of connectivity) as that in Supplementary Information 5, except given by cell class (or larger combined group) instead of by individual cell.  Connectivity between classes is the sum of the connectivity of the class members given in Supplementary Information 5.  Data in these tables is used for the Figures in Cook et al.\\nCorrections, July 2020  An effort has been made to remove all errors and inconsistencies within and between the matrices.  There were previously a number of them.', 'Sex': 'Hermaphrodite', 'Synapse Type': 'Symmetric Gap Junction'}\n",
      "g.graph= {'Title': 'Cell Class Adjacency Matrices  These are whole-animal connectivity matrices based on the cell classes listed in Supplementary Information 6.  The data are the same (number of EM serial sections of connectivity) as that in Supplementary Information 5, except given by cell class (or larger combined group) instead of by individual cell.  Connectivity between classes is the sum of the connectivity of the class members given in Supplementary Information 5.  Data in these tables is used for the Figures in Cook et al.\\nCorrections, July 2020  An effort has been made to remove all errors and inconsistencies within and between the matrices.  There were previously a number of them.', 'Sex': 'Hermaphrodite', 'Synapse Type': 'Asymmetric Gap Junction'}\n",
      "g.graph= {'Title': 'Cell Class Adjacency Matrices  These are whole-animal connectivity matrices based on the cell classes listed in Supplementary Information 6.  The data are the same (number of EM serial sections of connectivity) as that in Supplementary Information 5, except given by cell class (or larger combined group) instead of by individual cell.  Connectivity between classes is the sum of the connectivity of the class members given in Supplementary Information 5.  Data in these tables is used for the Figures in Cook et al.\\nCorrections, July 2020  An effort has been made to remove all errors and inconsistencies within and between the matrices.  There were previously a number of them.', 'Sex': 'Hermaphrodite', 'Synapse Type': 'Symmetric Gap Junction'}\n",
      "g.graph= {'Title': 'Cell Class Adjacency Matrices  These are whole-animal connectivity matrices based on the cell classes listed in Supplementary Information 6.  The data are the same (number of EM serial sections of connectivity) as that in Supplementary Information 5, except given by cell class (or larger combined group) instead of by individual cell.  Connectivity between classes is the sum of the connectivity of the class members given in Supplementary Information 5.  Data in these tables is used for the Figures in Cook et al.\\nCorrections, July 2020  An effort has been made to remove all errors and inconsistencies within and between the matrices.  There were previously a number of them.', 'Sex': 'Male', 'Synapse Type': 'Symmetric Gap Junction'}\n",
      "g.graph= {'Title': 'Cell Class Adjacency Matrices  These are whole-animal connectivity matrices based on the cell classes listed in Supplementary Information 6.  The data are the same (number of EM serial sections of connectivity) as that in Supplementary Information 5, except given by cell class (or larger combined group) instead of by individual cell.  Connectivity between classes is the sum of the connectivity of the class members given in Supplementary Information 5.  Data in these tables is used for the Figures in Cook et al.\\nCorrections, July 2020  An effort has been made to remove all errors and inconsistencies within and between the matrices.  There were previously a number of them.', 'Sex': 'Male', 'Synapse Type': 'Asymmetric Gap Junction'}\n",
      "g.graph= {'Title': 'Cell Class Adjacency Matrices  These are whole-animal connectivity matrices based on the cell classes listed in Supplementary Information 6.  The data are the same (number of EM serial sections of connectivity) as that in Supplementary Information 5, except given by cell class (or larger combined group) instead of by individual cell.  Connectivity between classes is the sum of the connectivity of the class members given in Supplementary Information 5.  Data in these tables is used for the Figures in Cook et al.\\nCorrections, July 2020  An effort has been made to remove all errors and inconsistencies within and between the matrices.  There were previously a number of them.', 'Sex': 'Male', 'Synapse Type': 'Symmetric Gap Junction'}\n",
      "g.graph= {'Title': 'NUMBER OF SCORED SYNAPSES BETWEEN PAIRS OF CELLS: SYNAPSE ADJACENCY MATRICES, HERMAPHRODITE AND MALE, CHEMICAL SYNAPSES AND GAP JUNCTIONS.  For chemical connections, rows: presynaptic cell; columns: post-synaptic cell.  The body of the table gives the number of synapses scored between each pair of cells.  NB: This matrix differs from the Connectome Adjacency Matrices (Suppplementary Information 5) in not taking into account the sizes of synapses and in showing only connections scored on electron micrographs.  It does not include any connections inserted by extrapolation.  Thus there are cells showing no connection here that are connected in the Connectome Adjacency Matrices.  Also note, there are more edges in this table than the total number of synapses scored (synapse lists, Supplementary Information 3).  This is because polyads are listed here more than once (once for each postsynaptic cell).', 'Sex': 'Hermaphrodite', 'Synapse Type': 'Gap Junction'}\n",
      "g.graph= {'Title': 'NUMBER OF SCORED SYNAPSES BETWEEN PAIRS OF CELLS: SYNAPSE ADJACENCY MATRICES, HERMAPHRODITE AND MALE, CHEMICAL SYNAPSES AND GAP JUNCTIONS.  For chemical connections, rows: presynaptic cell; columns: post-synaptic cell.  The body of the table gives the number of synapses scored between each pair of cells.  NB: This matrix differs from the Connectome Adjacency Matrices (Suppplementary Information 5) in not taking into account the sizes of synapses and in showing only connections scored on electron micrographs.  It does not include any connections inserted by extrapolation.  Thus there are cells showing no connection here that are connected in the Connectome Adjacency Matrices.  Also note, there are more edges in this table than the total number of synapses scored (synapse lists, Supplementary Information 3).  This is because polyads are listed here more than once (once for each postsynaptic cell).', 'Sex': 'Hermaphrodite', 'Synapse Type': 'Gap Junction'}\n",
      "g.graph= {'Title': 'NUMBER OF SCORED SYNAPSES BETWEEN PAIRS OF CELLS: SYNAPSE ADJACENCY MATRICES, HERMAPHRODITE AND MALE, CHEMICAL SYNAPSES AND GAP JUNCTIONS.  For chemical connections, rows: presynaptic cell; columns: post-synaptic cell.  The body of the table gives the number of synapses scored between each pair of cells.  NB: This matrix differs from the Connectome Adjacency Matrices (Suppplementary Information 5) in not taking into account the sizes of synapses and in showing only connections scored on electron micrographs.  It does not include any connections inserted by extrapolation.  Thus there are cells showing no connection here that are connected in the Connectome Adjacency Matrices.  Also note, there are more edges in this table than the total number of synapses scored (synapse lists, Supplementary Information 3).  This is because polyads are listed here more than once (once for each postsynaptic cell).', 'Sex': 'Male', 'Synapse Type': 'Gap Junction'}\n",
      "g.graph= {'Title': 'NUMBER OF SCORED SYNAPSES BETWEEN PAIRS OF CELLS: SYNAPSE ADJACENCY MATRICES, HERMAPHRODITE AND MALE, CHEMICAL SYNAPSES AND GAP JUNCTIONS.  For chemical connections, rows: presynaptic cell; columns: post-synaptic cell.  The body of the table gives the number of synapses scored between each pair of cells.  NB: This matrix differs from the Connectome Adjacency Matrices (Suppplementary Information 5) in not taking into account the sizes of synapses and in showing only connections scored on electron micrographs.  It does not include any connections inserted by extrapolation.  Thus there are cells showing no connection here that are connected in the Connectome Adjacency Matrices.  Also note, there are more edges in this table than the total number of synapses scored (synapse lists, Supplementary Information 3).  This is because polyads are listed here more than once (once for each postsynaptic cell).', 'Sex': 'Male', 'Synapse Type': 'Gap Junction'}\n",
      "g.graph= {'Title': 'Connectome Adjacency Matrices  These sheets give the whole-animal connectomes for the two adult sexes of C. elegans.  They provide the amount of connectivity between each pair of cells.  For chemical connections, rows give the pre-synaptic cell, columns give the post-synaptic cell.  Weights in the body of the matrices are the total number of EM serial sections of connectivity, taking into account both the number of synapses and the sizes of synapses.  To provide complete coverage of the entire nervous system, the data are assembled from multiple animals and include connections added by extrapolation in gaps where no data were available.  The data in these tables is used in the figures of Cook et al.  July, 2019\\nCorrections, July 2020  The attempt is made here to remove all inconsistencies and errors in the published tables.  In particular, for the gap junction tables, values across the diagonal should match and be consistent with the values in the asymmetric tables.', 'Sex': 'Hermaphrodite', 'Synapse Type': 'Symmetric Gap Junction'}\n",
      "g.graph= {'Title': 'Connectome Adjacency Matrices  These sheets give the whole-animal connectomes for the two adult sexes of C. elegans.  They provide the amount of connectivity between each pair of cells.  For chemical connections, rows give the pre-synaptic cell, columns give the post-synaptic cell.  Weights in the body of the matrices are the total number of EM serial sections of connectivity, taking into account both the number of synapses and the sizes of synapses.  To provide complete coverage of the entire nervous system, the data are assembled from multiple animals and include connections added by extrapolation in gaps where no data were available.  The data in these tables is used in the figures of Cook et al.  July, 2019\\nCorrections, July 2020  The attempt is made here to remove all inconsistencies and errors in the published tables.  In particular, for the gap junction tables, values across the diagonal should match and be consistent with the values in the asymmetric tables.', 'Sex': 'Hermaphrodite', 'Synapse Type': 'Asymmetric Gap Junction'}\n",
      "g.graph= {'Title': 'Connectome Adjacency Matrices  These sheets give the whole-animal connectomes for the two adult sexes of C. elegans.  They provide the amount of connectivity between each pair of cells.  For chemical connections, rows give the pre-synaptic cell, columns give the post-synaptic cell.  Weights in the body of the matrices are the total number of EM serial sections of connectivity, taking into account both the number of synapses and the sizes of synapses.  To provide complete coverage of the entire nervous system, the data are assembled from multiple animals and include connections added by extrapolation in gaps where no data were available.  The data in these tables is used in the figures of Cook et al.  July, 2019\\nCorrections, July 2020  The attempt is made here to remove all inconsistencies and errors in the published tables.  In particular, for the gap junction tables, values across the diagonal should match and be consistent with the values in the asymmetric tables.', 'Sex': 'Hermaphrodite', 'Synapse Type': 'Symmetric Gap Junction'}\n",
      "g.graph= {'Title': 'Connectome Adjacency Matrices  These sheets give the whole-animal connectomes for the two adult sexes of C. elegans.  They provide the amount of connectivity between each pair of cells.  For chemical connections, rows give the pre-synaptic cell, columns give the post-synaptic cell.  Weights in the body of the matrices are the total number of EM serial sections of connectivity, taking into account both the number of synapses and the sizes of synapses.  To provide complete coverage of the entire nervous system, the data are assembled from multiple animals and include connections added by extrapolation in gaps where no data were available.  The data in these tables is used in the figures of Cook et al.  July, 2019\\nCorrections, July 2020  The attempt is made here to remove all inconsistencies and errors in the published tables.  In particular, for the gap junction tables, values across the diagonal should match and be consistent with the values in the asymmetric tables.', 'Sex': 'Male', 'Synapse Type': 'Symmetric Gap Junction'}\n",
      "g.graph= {'Title': 'Connectome Adjacency Matrices  These sheets give the whole-animal connectomes for the two adult sexes of C. elegans.  They provide the amount of connectivity between each pair of cells.  For chemical connections, rows give the pre-synaptic cell, columns give the post-synaptic cell.  Weights in the body of the matrices are the total number of EM serial sections of connectivity, taking into account both the number of synapses and the sizes of synapses.  To provide complete coverage of the entire nervous system, the data are assembled from multiple animals and include connections added by extrapolation in gaps where no data were available.  The data in these tables is used in the figures of Cook et al.  July, 2019\\nCorrections, July 2020  The attempt is made here to remove all inconsistencies and errors in the published tables.  In particular, for the gap junction tables, values across the diagonal should match and be consistent with the values in the asymmetric tables.', 'Sex': 'Male', 'Synapse Type': 'Asymmetric Gap Junction'}\n",
      "g.graph= {'Title': 'Connectome Adjacency Matrices  These sheets give the whole-animal connectomes for the two adult sexes of C. elegans.  They provide the amount of connectivity between each pair of cells.  For chemical connections, rows give the pre-synaptic cell, columns give the post-synaptic cell.  Weights in the body of the matrices are the total number of EM serial sections of connectivity, taking into account both the number of synapses and the sizes of synapses.  To provide complete coverage of the entire nervous system, the data are assembled from multiple animals and include connections added by extrapolation in gaps where no data were available.  The data in these tables is used in the figures of Cook et al.  July, 2019\\nCorrections, July 2020  The attempt is made here to remove all inconsistencies and errors in the published tables.  In particular, for the gap junction tables, values across the diagonal should match and be consistent with the values in the asymmetric tables.', 'Sex': 'Male', 'Synapse Type': 'Symmetric Gap Junction'}\n"
     ]
    }
   ],
   "source": [
    "from c_elegans.witvilet2020.load_wit import load_wit\n",
    "from c_elegans.worm_wiring.load_worm import load_worm\n",
    "import networkx as nx\n",
    "from networkx.algorithms.components import number_strongly_connected_components as ncc_strong\n",
    "from networkx.algorithms.components import number_weakly_connected_components as ncc_weak\n",
    "import matplotlib.pyplot as plt\n",
    "import numpy as np\n",
    "\n",
    "worm_graphs = load_worm()\n",
    "wit_graphs = load_wit()\n",
    "worm_connectomes = worm_graphs\n",
    "for g in worm_graphs:\n",
    "    print(\"g.graph=\", g.graph)"
   ]
  },
  {
   "cell_type": "markdown",
   "metadata": {},
   "source": [
    "## Obtain Graph Statistics and Metadata"
   ]
  },
  {
   "cell_type": "code",
   "execution_count": 92,
   "metadata": {},
   "outputs": [],
   "source": [
    "lcc_size = [] #Instead of number of nodes -- number of nodes in largest weakly connected component\n",
    "density = []\n",
    "num_strong = []\n",
    "num_weak = []\n",
    "synapse_type = []\n",
    "sex = []\n",
    "in_degree = []\n",
    "out_degree = []\n",
    "graph_origin = []\n",
    "\n",
    "for g in worm_connectomes:\n",
    "    graph_origin.append(\"worm\")\n",
    "    lcc_size.append(len(max(nx.weakly_connected_components(g))))\n",
    "    density.append(nx.density(g))\n",
    "    num_strong.append(ncc_strong(g))\n",
    "    num_weak.append(ncc_weak(g))\n",
    "    try:\n",
    "        synapse_type.append(g.graph['Synapse Type'])\n",
    "    except KeyError:\n",
    "        synapse_type.append(\"Unknown\")\n",
    "    try:\n",
    "        sex.append(g.graph['Sex'])\n",
    "    except KeyError:\n",
    "        sex.append(\"Unknown\")\n",
    "    in_degree.append([d for _, d in g.in_degree()])\n",
    "    out_degree.append([d for _, d in g.out_degree()])\n",
    "    \n",
    "for graph in wit_graphs:\n",
    "    chemical_edges = []\n",
    "    electrical_edges = []\n",
    "    for *edge, attr in graph.edges(data=True, keys=True):\n",
    "        if attr['synapse_type'] == \"chemical\":\n",
    "            chemical_edges.append((*edge,))\n",
    "        elif attr['synapse_type'] == \"electrical\":\n",
    "            electrical_edges.append((*edge,))\n",
    "    g_chemical = graph.edge_subgraph(chemical_edges)\n",
    "    g_electrical = graph.edge_subgraph(electrical_edges)\n",
    "    for g, syn_type in [(g_chemical, \"Chemical\"), (g_electrical, \"Total Gap Junction\")]:\n",
    "        graph_origin.append(\"wit\")\n",
    "        lcc_size.append(len(max(nx.weakly_connected_components(g))))\n",
    "        density.append(nx.density(g))\n",
    "        num_strong.append(ncc_strong(g))\n",
    "        num_weak.append(ncc_weak(g))\n",
    "        synapse_type.append(syn_type)\n",
    "        sex.append(g.graph['Sex'])\n",
    "        in_degree.append([d for _, d in g.in_degree()])\n",
    "        out_degree.append([d for _, d in g.out_degree()])\n",
    "\n",
    "sex = np.array(sex)\n",
    "lcc_size = np.array(lcc_size)\n",
    "density = np.array(density)\n",
    "num_strong = np.array(num_strong)\n",
    "num_weak = np.array(num_weak)\n",
    "graph_origin = np.array(graph_origin)\n",
    "in_degree = [np.array(ins) for ins in in_degree]\n",
    "out_degree = [np.array(outs) for outs in out_degree]\n",
    "synapse_type = np.array(synapse_type)"
   ]
  },
  {
   "cell_type": "markdown",
   "metadata": {},
   "source": [
    "## Visualize "
   ]
  },
  {
   "cell_type": "code",
   "execution_count": 93,
   "metadata": {},
   "outputs": [
    {
     "name": "stdout",
     "output_type": "stream",
     "text": [
      "['Unknown' 'Unknown' 'Symmetric Gap Junction' 'Asymmetric Gap Junction'\n",
      " 'Symmetric Gap Junction' 'Symmetric Gap Junction'\n",
      " 'Asymmetric Gap Junction' 'Symmetric Gap Junction' 'Gap Junction'\n",
      " 'Gap Junction' 'Gap Junction' 'Gap Junction' 'Symmetric Gap Junction'\n",
      " 'Asymmetric Gap Junction' 'Symmetric Gap Junction'\n",
      " 'Symmetric Gap Junction' 'Asymmetric Gap Junction'\n",
      " 'Symmetric Gap Junction']\n"
     ]
    },
    {
     "ename": "KeyError",
     "evalue": "'Unknown'",
     "output_type": "error",
     "traceback": [
      "\u001b[0;31m---------------------------------------------------------------------------\u001b[0m",
      "\u001b[0;31mKeyError\u001b[0m                                  Traceback (most recent call last)",
      "\u001b[0;32m<ipython-input-93-f30b8d7e7778>\u001b[0m in \u001b[0;36m<module>\u001b[0;34m\u001b[0m\n\u001b[1;32m      4\u001b[0m \u001b[0msyntype_pos\u001b[0m \u001b[0;34m=\u001b[0m \u001b[0;34m[\u001b[0m\u001b[0;36m0\u001b[0m\u001b[0;34m,\u001b[0m \u001b[0;36m1.25\u001b[0m\u001b[0;34m,\u001b[0m \u001b[0;36m2.\u001b[0m\u001b[0;34m,\u001b[0m \u001b[0;36m2.75\u001b[0m\u001b[0;34m]\u001b[0m\u001b[0;34m\u001b[0m\u001b[0;34m\u001b[0m\u001b[0m\n\u001b[1;32m      5\u001b[0m \u001b[0msyntype2pos\u001b[0m \u001b[0;34m=\u001b[0m \u001b[0;34m{\u001b[0m\u001b[0msyntype\u001b[0m\u001b[0;34m:\u001b[0m\u001b[0mi\u001b[0m \u001b[0;32mfor\u001b[0m \u001b[0mi\u001b[0m\u001b[0;34m,\u001b[0m \u001b[0msyntype\u001b[0m \u001b[0;32min\u001b[0m \u001b[0mzip\u001b[0m\u001b[0;34m(\u001b[0m\u001b[0msyntype_pos\u001b[0m\u001b[0;34m,\u001b[0m \u001b[0msyntypes\u001b[0m\u001b[0;34m)\u001b[0m\u001b[0;34m}\u001b[0m\u001b[0;34m\u001b[0m\u001b[0;34m\u001b[0m\u001b[0m\n\u001b[0;32m----> 6\u001b[0;31m \u001b[0msyn_pos\u001b[0m \u001b[0;34m=\u001b[0m \u001b[0mnp\u001b[0m\u001b[0;34m.\u001b[0m\u001b[0marray\u001b[0m\u001b[0;34m(\u001b[0m\u001b[0;34m[\u001b[0m\u001b[0msyntype2pos\u001b[0m\u001b[0;34m[\u001b[0m\u001b[0msyntype\u001b[0m\u001b[0;34m]\u001b[0m \u001b[0;32mfor\u001b[0m \u001b[0msyntype\u001b[0m \u001b[0;32min\u001b[0m \u001b[0msynapse_type\u001b[0m\u001b[0;34m]\u001b[0m\u001b[0;34m)\u001b[0m\u001b[0;34m\u001b[0m\u001b[0;34m\u001b[0m\u001b[0m\n\u001b[0m\u001b[1;32m      7\u001b[0m \u001b[0msyn_pos\u001b[0m \u001b[0;34m+=\u001b[0m \u001b[0;36m0.25\u001b[0m\u001b[0;34m*\u001b[0m\u001b[0;34m(\u001b[0m\u001b[0mnp\u001b[0m\u001b[0;34m.\u001b[0m\u001b[0mrandom\u001b[0m\u001b[0;34m.\u001b[0m\u001b[0mrand\u001b[0m\u001b[0;34m(\u001b[0m\u001b[0msyn_pos\u001b[0m\u001b[0;34m.\u001b[0m\u001b[0mshape\u001b[0m\u001b[0;34m[\u001b[0m\u001b[0;36m0\u001b[0m\u001b[0;34m]\u001b[0m\u001b[0;34m)\u001b[0m \u001b[0;34m-\u001b[0m \u001b[0;36m0.5\u001b[0m\u001b[0;34m)\u001b[0m \u001b[0;31m#adding jitter\u001b[0m\u001b[0;34m\u001b[0m\u001b[0;34m\u001b[0m\u001b[0m\n\u001b[1;32m      8\u001b[0m \u001b[0msexes\u001b[0m \u001b[0;34m=\u001b[0m \u001b[0;34m[\u001b[0m\u001b[0;34m\"Male\"\u001b[0m\u001b[0;34m,\u001b[0m \u001b[0;34m\"Hermaphrodite\"\u001b[0m\u001b[0;34m]\u001b[0m\u001b[0;34m\u001b[0m\u001b[0;34m\u001b[0m\u001b[0m\n",
      "\u001b[0;32m<ipython-input-93-f30b8d7e7778>\u001b[0m in \u001b[0;36m<listcomp>\u001b[0;34m(.0)\u001b[0m\n\u001b[1;32m      4\u001b[0m \u001b[0msyntype_pos\u001b[0m \u001b[0;34m=\u001b[0m \u001b[0;34m[\u001b[0m\u001b[0;36m0\u001b[0m\u001b[0;34m,\u001b[0m \u001b[0;36m1.25\u001b[0m\u001b[0;34m,\u001b[0m \u001b[0;36m2.\u001b[0m\u001b[0;34m,\u001b[0m \u001b[0;36m2.75\u001b[0m\u001b[0;34m]\u001b[0m\u001b[0;34m\u001b[0m\u001b[0;34m\u001b[0m\u001b[0m\n\u001b[1;32m      5\u001b[0m \u001b[0msyntype2pos\u001b[0m \u001b[0;34m=\u001b[0m \u001b[0;34m{\u001b[0m\u001b[0msyntype\u001b[0m\u001b[0;34m:\u001b[0m\u001b[0mi\u001b[0m \u001b[0;32mfor\u001b[0m \u001b[0mi\u001b[0m\u001b[0;34m,\u001b[0m \u001b[0msyntype\u001b[0m \u001b[0;32min\u001b[0m \u001b[0mzip\u001b[0m\u001b[0;34m(\u001b[0m\u001b[0msyntype_pos\u001b[0m\u001b[0;34m,\u001b[0m \u001b[0msyntypes\u001b[0m\u001b[0;34m)\u001b[0m\u001b[0;34m}\u001b[0m\u001b[0;34m\u001b[0m\u001b[0;34m\u001b[0m\u001b[0m\n\u001b[0;32m----> 6\u001b[0;31m \u001b[0msyn_pos\u001b[0m \u001b[0;34m=\u001b[0m \u001b[0mnp\u001b[0m\u001b[0;34m.\u001b[0m\u001b[0marray\u001b[0m\u001b[0;34m(\u001b[0m\u001b[0;34m[\u001b[0m\u001b[0msyntype2pos\u001b[0m\u001b[0;34m[\u001b[0m\u001b[0msyntype\u001b[0m\u001b[0;34m]\u001b[0m \u001b[0;32mfor\u001b[0m \u001b[0msyntype\u001b[0m \u001b[0;32min\u001b[0m \u001b[0msynapse_type\u001b[0m\u001b[0;34m]\u001b[0m\u001b[0;34m)\u001b[0m\u001b[0;34m\u001b[0m\u001b[0;34m\u001b[0m\u001b[0m\n\u001b[0m\u001b[1;32m      7\u001b[0m \u001b[0msyn_pos\u001b[0m \u001b[0;34m+=\u001b[0m \u001b[0;36m0.25\u001b[0m\u001b[0;34m*\u001b[0m\u001b[0;34m(\u001b[0m\u001b[0mnp\u001b[0m\u001b[0;34m.\u001b[0m\u001b[0mrandom\u001b[0m\u001b[0;34m.\u001b[0m\u001b[0mrand\u001b[0m\u001b[0;34m(\u001b[0m\u001b[0msyn_pos\u001b[0m\u001b[0;34m.\u001b[0m\u001b[0mshape\u001b[0m\u001b[0;34m[\u001b[0m\u001b[0;36m0\u001b[0m\u001b[0;34m]\u001b[0m\u001b[0;34m)\u001b[0m \u001b[0;34m-\u001b[0m \u001b[0;36m0.5\u001b[0m\u001b[0;34m)\u001b[0m \u001b[0;31m#adding jitter\u001b[0m\u001b[0;34m\u001b[0m\u001b[0;34m\u001b[0m\u001b[0m\n\u001b[1;32m      8\u001b[0m \u001b[0msexes\u001b[0m \u001b[0;34m=\u001b[0m \u001b[0;34m[\u001b[0m\u001b[0;34m\"Male\"\u001b[0m\u001b[0;34m,\u001b[0m \u001b[0;34m\"Hermaphrodite\"\u001b[0m\u001b[0;34m]\u001b[0m\u001b[0;34m\u001b[0m\u001b[0;34m\u001b[0m\u001b[0m\n",
      "\u001b[0;31mKeyError\u001b[0m: 'Unknown'"
     ]
    }
   ],
   "source": [
    "print(synapse_type[graph_origin==\"worm\"])\n",
    "\n",
    "syntypes = [\"Chemical\", \"Symmetric Gap Junction\", \"Asymmetric Gap Junction\", \"Total Gap Junction\"]\n",
    "syntype_pos = [0, 1.25, 2., 2.75]\n",
    "syntype2pos = {syntype:i for i, syntype in zip(syntype_pos, syntypes)}\n",
    "syn_pos = np.array([syntype2pos[syntype] for syntype in synapse_type])\n",
    "syn_pos += 0.25*(np.random.rand(syn_pos.shape[0]) - 0.5) #adding jitter\n",
    "sexes = [\"Male\", \"Hermaphrodite\"]\n",
    "sex2color = {\"Male\":'b', \"Hermaphrodite\":'purple'}\n",
    "sex_colors = [sex2color[isex] for isex in sex]\n",
    "\n",
    "def vis_stat(stat, stat_name):\n",
    "    fig_max = np.max(stat)\n",
    "    fig = plt.figure()\n",
    "    ax = plt.gca()\n",
    "    plt.hold=True\n",
    "    for isex in sexes:\n",
    "        plt.scatter(syn_pos[np.logical_and(sex==isex, graph_origin==\"worm\")],\n",
    "                    stat[np.logical_and(sex==isex, graph_origin==\"worm\")],\n",
    "                    c=sex2color[isex],\n",
    "                    label=isex+\", worm wiring\",\n",
    "                    marker='o')\n",
    "        plt.scatter(syn_pos[np.logical_and(sex==isex, graph_origin==\"wit\")],\n",
    "                    stat[np.logical_and(sex==isex, graph_origin==\"wit\")],\n",
    "                    c=sex2color[isex],\n",
    "                    label=isex+\", witvilet\",\n",
    "                    marker='s')\n",
    "    plt.text(syntype_pos[0], 1.1*fig_max, \"Chemical\", ha=\"center\")\n",
    "    plt.text(syntype_pos[2], 1.1*fig_max, \"Electrical\", ha=\"center\")\n",
    "    plt.hold=False\n",
    "    plt.ylabel(stat_name)\n",
    "    ax.xaxis.set_ticks(syntype_pos)\n",
    "    ax.xaxis.set_ticklabels(syntypes, rotation=90)\n",
    "    fill_width = 2\n",
    "    ax.axvspan(syntype_pos[0]-fill_width/2, syntype_pos[0]+fill_width/2, color=\"yellow\", alpha=0.1)\n",
    "    ax.axvspan(syntype_pos[2]-fill_width/2, syntype_pos[2]+fill_width/2, color=\"red\", alpha=0.1)\n",
    "    #plt.legend(loc='best', ncol=3)\n",
    "    return fig\n",
    "    \n",
    "fig = vis_stat(lcc_size, \"Number of Nodes in the Largest Weakly Connected Component\")\n",
    "fig.savefig(\"num_nodes.png\", bbox_inches=\"tight\")\n",
    "fig = vis_stat(density, \"Density\")\n",
    "fig.savefig(\"density.png\", bbox_inches=\"tight\")\n",
    "fig = vis_stat(num_strong, \"Number of Strongly Connected Components\")\n",
    "fig.savefig(\"num_strong.png\", bbox_inches=\"tight\")\n",
    "fig = vis_stat(num_weak, \"Number of Weakly Connected Components\")\n",
    "fig.savefig(\"num_weak.png\", bbox_inches=\"tight\")"
   ]
  },
  {
   "cell_type": "markdown",
   "metadata": {},
   "source": [
    "Witvilet-specific graphs"
   ]
  },
  {
   "cell_type": "code",
   "execution_count": 77,
   "metadata": {},
   "outputs": [],
   "source": [
    "ages = []\n",
    "for g in wit_graphs:\n",
    "    ages.append(g.graph['age'])"
   ]
  },
  {
   "cell_type": "code",
   "execution_count": 80,
   "metadata": {},
   "outputs": [
    {
     "name": "stdout",
     "output_type": "stream",
     "text": [
      "lcc_size= [446 460 460 559  57  57 221 163 219 154 187  28 193  86 198   2 203 111\n",
      " 210 151 216 139]\n",
      "synapse_type= ['Symmetric Gap Junction', 'Asymmetric Gap Junction', 'Symmetric Gap Junction', 'Symmetric Gap Junction', 'Asymmetric Gap Junction', 'Symmetric Gap Junction', 'Chemical', 'Total Gap Junction', 'Chemical', 'Total Gap Junction', 'Chemical', 'Total Gap Junction', 'Chemical', 'Total Gap Junction', 'Chemical', 'Total Gap Junction', 'Chemical', 'Total Gap Junction', 'Chemical', 'Total Gap Junction', 'Chemical', 'Total Gap Junction']\n"
     ]
    }
   ],
   "source": [
    "def vis_stat(stat, stat_name):\n",
    "    fig_max = np.max(stat)\n",
    "    fig = plt.figure()\n",
    "    ax = plt.gca()\n",
    "    plt.hold=True\n",
    "    for syntype in syntypes:\n",
    "        plt.scatter(ages, graph_origin==\"worm\")],\n",
    "                    stat[np.logical_and(sex==isex, graph_origin==\"worm\")],\n",
    "                    c=sex2color[isex],)\n",
    "    plt.text(syntype_pos[0], 1.1*fig_max, \"Chemical\", ha=\"center\")\n",
    "    plt.text(syntype_pos[2], 1.1*fig_max, \"Electrical\", ha=\"center\")\n",
    "    plt.hold=False\n",
    "    plt.ylabel(stat_name)\n",
    "    ax.xaxis.set_ticks(syntype_pos)\n",
    "    ax.xaxis.set_ticklabels(syntypes, rotation=90)\n",
    "    fill_width = 2\n",
    "    ax.axvspan(syntype_pos[0]-fill_width/2, syntype_pos[0]+fill_width/2, color=\"yellow\", alpha=0.1)\n",
    "    ax.axvspan(syntype_pos[2]-fill_width/2, syntype_pos[2]+fill_width/2, color=\"red\", alpha=0.1)\n",
    "    #plt.legend(loc='best', ncol=3)\n",
    "    return fig\n",
    "    \n",
    "fig = vis_stat(lcc_size, \"Number of Nodes in the Largest Weakly Connected Component\")\n",
    "fig.savefig(\"num_nodes.png\", bbox_inches=\"tight\")\n",
    "fig = vis_stat(density, \"Density\")\n",
    "fig.savefig(\"density.png\", bbox_inches=\"tight\")\n",
    "fig = vis_stat(num_strong, \"Number of Strongly Connected Components\")\n",
    "fig.savefig(\"num_strong.png\", bbox_inches=\"tight\")\n",
    "fig = vis_stat(num_weak, \"Number of Weakly Connected Components\")\n",
    "fig.savefig(\"num_weak.png\", bbox_inches=\"tight\")"
   ]
  },
  {
   "cell_type": "code",
   "execution_count": null,
   "metadata": {},
   "outputs": [],
   "source": []
  }
 ],
 "metadata": {
  "kernelspec": {
   "display_name": "Python 3",
   "language": "python",
   "name": "python3"
  },
  "language_info": {
   "codemirror_mode": {
    "name": "ipython",
    "version": 3
   },
   "file_extension": ".py",
   "mimetype": "text/x-python",
   "name": "python",
   "nbconvert_exporter": "python",
   "pygments_lexer": "ipython3",
   "version": "3.7.6"
  }
 },
 "nbformat": 4,
 "nbformat_minor": 4
}
