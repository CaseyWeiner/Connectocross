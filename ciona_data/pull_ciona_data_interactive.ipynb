{
 "cells": [
  {
   "cell_type": "code",
   "execution_count": 1,
   "outputs": [],
   "source": [
    "from worm_wiring import worm_wiring\n",
    "import pandas as pd\n",
    "import networkx as nx\n",
    "import numpy as np"
   ],
   "metadata": {
    "collapsed": false,
    "pycharm": {
     "name": "#%%\n"
    }
   }
  },
  {
   "cell_type": "code",
   "execution_count": 2,
   "metadata": {
    "collapsed": true
   },
   "outputs": [],
   "source": [
    "# adjacency matrix, rows presynaptic, cols post synaptic\n",
    "struct = {'structure': \"https://elifesciences.org/download/aHR0cHM6Ly9jZG4uZWxpZmVzY2llbmNlcy5vcmcvYXJ0aWNsZXMvMTY5NjIvZWxpZmUtMTY5NjItZmlnMTYtZGF0YTEtdjEueGxzeA--/elife-16962-fig16-data1-v1.xlsx?_hash=ltleHMu0Mu0ujKuGWUeIsAsFtqARmr7badHc8RYWqcA%3D\"}\n",
    "\n",
    "# cell type, characteristics, of cells, Annotation(e.g. sensory, inter, motor)\n",
    "# annoyingly, doesn't list ids in adj. must infer, e.g. in Abreviation is PR-I,\n",
    "# and there are 10 cells of this, then matching ids will pr\n",
    "base_atts = {'basic_atts': \"https://elifesciences.org/download/aHR0cHM6Ly9jZG4uZWxpZmVzY2llbmNlcy5vcmcvYXJ0aWNsZXMvMTY5NjIvZWxpZmUtMTY5NjItZmlnMS1kYXRhMS12MS54bHN4/elife-16962-fig1-data1-v1.xlsx?_hash=RJKemxiTOb3fYQn5SXeog7w8Lzn%2F9Cka4BwHFyruMaM%3D\"}\n",
    "\n",
    "# Neurons listed by ID, with cell type, morphological features, location, presence or absence of cilia, and number\n",
    "# of each neuron’s pre- and postsynaptic sites or putative gap junctions (>0.06 µm). Ependymal cells excluded. The\n",
    "# final column shows left lateral views of individual neuron reconstructions (whole cells, or terminals for\n",
    "# photoreceptors) as small thumbnails with scale bars: 1 µm (thick bars: coronet cells, lens cells, photoreceptor\n",
    "# terminals and PR-III cells, vacINs); 10 µm (thin bars: all other cells).\n",
    "cell_data = {'cell_bio_data': \"https://elifesciences.org/download/aHR0cHM6Ly9jZG4uZWxpZmVzY2llbmNlcy5vcmcvYXJ0aWNsZXMvMTY5NjIvZWxpZmUtMTY5NjItZmlnMy1kYXRhMS12MS54bHN4/elife-16962-fig3-data1-v1.xlsx?_hash=PIvd%2FA8L6avkM1Y3ebK9%2BlgoGGiskaH53PsAYK%2BtGyM%3D\"}\n"
   ]
  },
  {
   "cell_type": "markdown",
   "source": [
    "Load files using the worm wiring xlsx loader"
   ],
   "metadata": {
    "collapsed": false,
    "pycharm": {
     "name": "#%% md\n"
    }
   }
  },
  {
   "cell_type": "code",
   "execution_count": 3,
   "outputs": [
    {
     "name": "stdout",
     "output_type": "stream",
     "text": [
      "Got excel data\n"
     ]
    }
   ],
   "source": [
    "files = {**struct, **base_atts, **cell_data}\n",
    "dfs = {f: worm_wiring.pull_xl_file(files[f]) for f in files}\n",
    "print('Got excel data')\n"
   ],
   "metadata": {
    "collapsed": false,
    "pycharm": {
     "name": "#%%\n"
    }
   }
  },
  {
   "cell_type": "code",
   "execution_count": 4,
   "outputs": [
    {
     "data": {
      "text/plain": "     0     1      2      3      4      5      6     7     8     9    ...  \\\n0    NaN  pns1  pns10  pns11  pns12  pns13  pns14  pns2  pns3  pns4  ...   \n1   pns1   NaN    NaN    NaN    NaN   0.96    NaN   NaN  0.12  0.18  ...   \n2  pns10  0.66    NaN   1.62   0.72   0.12    NaN   NaN   0.9  1.26  ...   \n3  pns11   NaN   0.42    NaN   0.18    NaN    NaN   NaN  0.24  0.12  ...   \n4  pns12  0.12   1.02   0.24    NaN   0.54    NaN   NaN  1.02  0.36  ...   \n\n    207   208   209  210   211  212   213   214      215    216  \n0  BTN2  BTN3  BTN4  mul  mulm  mur  murm    bm  bm-noto  Total  \n1   NaN   NaN   NaN  NaN   NaN  NaN   NaN  0.24      NaN   4.38  \n2   NaN   NaN   NaN  NaN   NaN  NaN   NaN   NaN      NaN  13.98  \n3   NaN   NaN   NaN  NaN   NaN  NaN   NaN   NaN      NaN  16.19  \n4   NaN   NaN   NaN  NaN   NaN  NaN   NaN   NaN      NaN  12.78  \n\n[5 rows x 217 columns]",
      "text/html": "<div>\n<style scoped>\n    .dataframe tbody tr th:only-of-type {\n        vertical-align: middle;\n    }\n\n    .dataframe tbody tr th {\n        vertical-align: top;\n    }\n\n    .dataframe thead th {\n        text-align: right;\n    }\n</style>\n<table border=\"1\" class=\"dataframe\">\n  <thead>\n    <tr style=\"text-align: right;\">\n      <th></th>\n      <th>0</th>\n      <th>1</th>\n      <th>2</th>\n      <th>3</th>\n      <th>4</th>\n      <th>5</th>\n      <th>6</th>\n      <th>7</th>\n      <th>8</th>\n      <th>9</th>\n      <th>...</th>\n      <th>207</th>\n      <th>208</th>\n      <th>209</th>\n      <th>210</th>\n      <th>211</th>\n      <th>212</th>\n      <th>213</th>\n      <th>214</th>\n      <th>215</th>\n      <th>216</th>\n    </tr>\n  </thead>\n  <tbody>\n    <tr>\n      <th>0</th>\n      <td>NaN</td>\n      <td>pns1</td>\n      <td>pns10</td>\n      <td>pns11</td>\n      <td>pns12</td>\n      <td>pns13</td>\n      <td>pns14</td>\n      <td>pns2</td>\n      <td>pns3</td>\n      <td>pns4</td>\n      <td>...</td>\n      <td>BTN2</td>\n      <td>BTN3</td>\n      <td>BTN4</td>\n      <td>mul</td>\n      <td>mulm</td>\n      <td>mur</td>\n      <td>murm</td>\n      <td>bm</td>\n      <td>bm-noto</td>\n      <td>Total</td>\n    </tr>\n    <tr>\n      <th>1</th>\n      <td>pns1</td>\n      <td>NaN</td>\n      <td>NaN</td>\n      <td>NaN</td>\n      <td>NaN</td>\n      <td>0.96</td>\n      <td>NaN</td>\n      <td>NaN</td>\n      <td>0.12</td>\n      <td>0.18</td>\n      <td>...</td>\n      <td>NaN</td>\n      <td>NaN</td>\n      <td>NaN</td>\n      <td>NaN</td>\n      <td>NaN</td>\n      <td>NaN</td>\n      <td>NaN</td>\n      <td>0.24</td>\n      <td>NaN</td>\n      <td>4.38</td>\n    </tr>\n    <tr>\n      <th>2</th>\n      <td>pns10</td>\n      <td>0.66</td>\n      <td>NaN</td>\n      <td>1.62</td>\n      <td>0.72</td>\n      <td>0.12</td>\n      <td>NaN</td>\n      <td>NaN</td>\n      <td>0.9</td>\n      <td>1.26</td>\n      <td>...</td>\n      <td>NaN</td>\n      <td>NaN</td>\n      <td>NaN</td>\n      <td>NaN</td>\n      <td>NaN</td>\n      <td>NaN</td>\n      <td>NaN</td>\n      <td>NaN</td>\n      <td>NaN</td>\n      <td>13.98</td>\n    </tr>\n    <tr>\n      <th>3</th>\n      <td>pns11</td>\n      <td>NaN</td>\n      <td>0.42</td>\n      <td>NaN</td>\n      <td>0.18</td>\n      <td>NaN</td>\n      <td>NaN</td>\n      <td>NaN</td>\n      <td>0.24</td>\n      <td>0.12</td>\n      <td>...</td>\n      <td>NaN</td>\n      <td>NaN</td>\n      <td>NaN</td>\n      <td>NaN</td>\n      <td>NaN</td>\n      <td>NaN</td>\n      <td>NaN</td>\n      <td>NaN</td>\n      <td>NaN</td>\n      <td>16.19</td>\n    </tr>\n    <tr>\n      <th>4</th>\n      <td>pns12</td>\n      <td>0.12</td>\n      <td>1.02</td>\n      <td>0.24</td>\n      <td>NaN</td>\n      <td>0.54</td>\n      <td>NaN</td>\n      <td>NaN</td>\n      <td>1.02</td>\n      <td>0.36</td>\n      <td>...</td>\n      <td>NaN</td>\n      <td>NaN</td>\n      <td>NaN</td>\n      <td>NaN</td>\n      <td>NaN</td>\n      <td>NaN</td>\n      <td>NaN</td>\n      <td>NaN</td>\n      <td>NaN</td>\n      <td>12.78</td>\n    </tr>\n  </tbody>\n</table>\n<p>5 rows × 217 columns</p>\n</div>"
     },
     "execution_count": 4,
     "metadata": {},
     "output_type": "execute_result"
    }
   ],
   "source": [
    "dfs['structure'][0].head()"
   ],
   "metadata": {
    "collapsed": false,
    "pycharm": {
     "name": "#%%\n"
    }
   }
  },
  {
   "cell_type": "code",
   "execution_count": 5,
   "outputs": [
    {
     "data": {
      "text/plain": "              0       1                        2  \\\n0  Abbreviation  Colour                Cell Type   \n1          PR-I     NaN    Type I Photoreceptors   \n2         PR-II     NaN   Type II Photoreceptors   \n3        PR-III     NaN  Type III Photoreceptors   \n4          Lens                       Lens cells   \n\n                                                   3  \\\n0                                    Characteristics   \n1                Outer segments into ocellus pigment   \n2  Outer segments directly into neural canal near...   \n3  Ventral vacuolated cells between Cor and lens ...   \n4  Large, vacuolated cells ventral to ocellus pig...   \n\n                                                   4                5  \\\n0                                           Subtypes  Number of cells   \n1  (osa, osd, osp: outer segments project to ante...               23   \n2  (osa, osd, osp: outer segments project to ante...                7   \n3                                                  -                6   \n4                                                  -                3   \n\n                                 6           7  \n0                         Cell IDs  Annotation  \n1                         pr1-pr23     Sensory  \n2                          pra-prg     Sensory  \n3  lens6-7, 84, 101, 110, 113, 114     Sensory  \n4              lens4, lens5, lens8   Accessory  ",
      "text/html": "<div>\n<style scoped>\n    .dataframe tbody tr th:only-of-type {\n        vertical-align: middle;\n    }\n\n    .dataframe tbody tr th {\n        vertical-align: top;\n    }\n\n    .dataframe thead th {\n        text-align: right;\n    }\n</style>\n<table border=\"1\" class=\"dataframe\">\n  <thead>\n    <tr style=\"text-align: right;\">\n      <th></th>\n      <th>0</th>\n      <th>1</th>\n      <th>2</th>\n      <th>3</th>\n      <th>4</th>\n      <th>5</th>\n      <th>6</th>\n      <th>7</th>\n    </tr>\n  </thead>\n  <tbody>\n    <tr>\n      <th>0</th>\n      <td>Abbreviation</td>\n      <td>Colour</td>\n      <td>Cell Type</td>\n      <td>Characteristics</td>\n      <td>Subtypes</td>\n      <td>Number of cells</td>\n      <td>Cell IDs</td>\n      <td>Annotation</td>\n    </tr>\n    <tr>\n      <th>1</th>\n      <td>PR-I</td>\n      <td>NaN</td>\n      <td>Type I Photoreceptors</td>\n      <td>Outer segments into ocellus pigment</td>\n      <td>(osa, osd, osp: outer segments project to ante...</td>\n      <td>23</td>\n      <td>pr1-pr23</td>\n      <td>Sensory</td>\n    </tr>\n    <tr>\n      <th>2</th>\n      <td>PR-II</td>\n      <td>NaN</td>\n      <td>Type II Photoreceptors</td>\n      <td>Outer segments directly into neural canal near...</td>\n      <td>(osa, osd, osp: outer segments project to ante...</td>\n      <td>7</td>\n      <td>pra-prg</td>\n      <td>Sensory</td>\n    </tr>\n    <tr>\n      <th>3</th>\n      <td>PR-III</td>\n      <td>NaN</td>\n      <td>Type III Photoreceptors</td>\n      <td>Ventral vacuolated cells between Cor and lens ...</td>\n      <td>-</td>\n      <td>6</td>\n      <td>lens6-7, 84, 101, 110, 113, 114</td>\n      <td>Sensory</td>\n    </tr>\n    <tr>\n      <th>4</th>\n      <td>Lens</td>\n      <td></td>\n      <td>Lens cells</td>\n      <td>Large, vacuolated cells ventral to ocellus pig...</td>\n      <td>-</td>\n      <td>3</td>\n      <td>lens4, lens5, lens8</td>\n      <td>Accessory</td>\n    </tr>\n  </tbody>\n</table>\n</div>"
     },
     "execution_count": 5,
     "metadata": {},
     "output_type": "execute_result"
    }
   ],
   "source": [
    "dfs['basic_atts'][0].head()"
   ],
   "metadata": {
    "collapsed": false,
    "pycharm": {
     "name": "#%%\n"
    }
   }
  },
  {
   "cell_type": "markdown",
   "source": [
    "Find the connections and correctly label the nodes "
   ],
   "metadata": {
    "collapsed": false,
    "pycharm": {
     "name": "#%% md\n"
    }
   }
  },
  {
   "cell_type": "code",
   "execution_count": 6,
   "outputs": [],
   "source": [
    "adj = dfs['structure'][0]\n",
    "col_labels = list(adj.iloc[0, :])\n",
    "row_labels = list(adj.iloc[:, 0])\n",
    "col_labels = [l for l in col_labels]\n",
    "col_lab_set = set(col_labels)\n",
    "row_labels = {l for l in row_labels}\n",
    "joint_labels = col_lab_set.intersection(row_labels)"
   ],
   "metadata": {
    "collapsed": false,
    "pycharm": {
     "name": "#%%\n"
    }
   }
  },
  {
   "cell_type": "code",
   "execution_count": 7,
   "outputs": [
    {
     "name": "stdout",
     "output_type": "stream",
     "text": [
      "got adj to nx\n"
     ]
    }
   ],
   "source": [
    "# process the structure\n",
    "adj.columns = col_labels\n",
    "selected_cols = adj[list(joint_labels)]\n",
    "common_adj = selected_cols.loc[selected_cols[np.nan].isin(joint_labels)]\n",
    "np_adj = common_adj.values\n",
    "integerized = np_adj[1:, 1:].astype(np.float64)\n",
    "graph = nx.from_numpy_array(integerized, create_using=nx.DiGraph)\n",
    "ids = common_adj.iloc[1:, 0]\n",
    "node_map = {n: str(ids.iloc[n]).strip() for n in graph.nodes()}\n",
    "nx.relabel_nodes(graph, node_map, copy=False)\n",
    "print('got adj to nx')"
   ],
   "metadata": {
    "collapsed": false,
    "pycharm": {
     "name": "#%%\n"
    }
   }
  },
  {
   "cell_type": "markdown",
   "source": [
    "Get node attribute data"
   ],
   "metadata": {
    "collapsed": false,
    "pycharm": {
     "name": "#%% md\n"
    }
   }
  },
  {
   "cell_type": "code",
   "execution_count": 13,
   "outputs": [
    {
     "name": "stderr",
     "output_type": "stream",
     "text": [
      "/home/spencerloggia/anaconda3/envs/graspy/lib/python3.7/site-packages/ipykernel_launcher.py:9: SettingWithCopyWarning: \n",
      "A value is trying to be set on a copy of a slice from a DataFrame.\n",
      "Try using .loc[row_indexer,col_indexer] = value instead\n",
      "\n",
      "See the caveats in the documentation: https://pandas.pydata.org/pandas-docs/stable/user_guide/indexing.html#returning-a-view-versus-a-copy\n",
      "  if __name__ == '__main__':\n"
     ]
    },
    {
     "data": {
      "text/plain": "   Cell ID     Cell Type        Ciliated           Side  Brain Region     X  \\\n0  Cell ID     Cell Type        Ciliated  Soma location           NaN   NaN   \n1      nan           NaN             NaN           Side  Brain region    Z    \n2        1  cor-ass BVIN  ciliated to bp              L   anterior BV  0.83   \n3        2  cor-ass BVIN  ciliated to bp              L   anterior BV  1.25   \n4        3          BVIN        ciliated              L   anterior BV  0.17   \n\n      Y     Z                             Morphology Description  \\\n0   NaN   NaN                                         Morphology   \n1     X     Y                                                NaN   \n2   9.5  30.6  Single simple axon with slight expansion at te...   \n3  16.5  32.8  Simple cell with single unbranched axon to pos...   \n4  23.2  31.9  Simple cell body with single axon that expands...   \n\n   Cell Body Volume  Number of Pre-Synaptic Sites  \\\n0  Cell body volume  Number of pre-synaptic sites   \n1               NaN                           NaN   \n2           94.7191                             2   \n3            100.91                            12   \n4           24.3679                             6   \n\n   Number of Post-Synaptic Sites  Number of Putative Gap Junctions  \n0  Number of post-synaptic sites  Number of putative gap junctions  \n1                            NaN                               NaN  \n2                             21                                 -  \n3                             14                                 2  \n4                              5                                 2  ",
      "text/html": "<div>\n<style scoped>\n    .dataframe tbody tr th:only-of-type {\n        vertical-align: middle;\n    }\n\n    .dataframe tbody tr th {\n        vertical-align: top;\n    }\n\n    .dataframe thead th {\n        text-align: right;\n    }\n</style>\n<table border=\"1\" class=\"dataframe\">\n  <thead>\n    <tr style=\"text-align: right;\">\n      <th></th>\n      <th>Cell ID</th>\n      <th>Cell Type</th>\n      <th>Ciliated</th>\n      <th>Side</th>\n      <th>Brain Region</th>\n      <th>X</th>\n      <th>Y</th>\n      <th>Z</th>\n      <th>Morphology Description</th>\n      <th>Cell Body Volume</th>\n      <th>Number of Pre-Synaptic Sites</th>\n      <th>Number of Post-Synaptic Sites</th>\n      <th>Number of Putative Gap Junctions</th>\n    </tr>\n  </thead>\n  <tbody>\n    <tr>\n      <th>0</th>\n      <td>Cell ID</td>\n      <td>Cell Type</td>\n      <td>Ciliated</td>\n      <td>Soma location</td>\n      <td>NaN</td>\n      <td>NaN</td>\n      <td>NaN</td>\n      <td>NaN</td>\n      <td>Morphology</td>\n      <td>Cell body volume</td>\n      <td>Number of pre-synaptic sites</td>\n      <td>Number of post-synaptic sites</td>\n      <td>Number of putative gap junctions</td>\n    </tr>\n    <tr>\n      <th>1</th>\n      <td>nan</td>\n      <td>NaN</td>\n      <td>NaN</td>\n      <td>Side</td>\n      <td>Brain region</td>\n      <td>Z</td>\n      <td>X</td>\n      <td>Y</td>\n      <td>NaN</td>\n      <td>NaN</td>\n      <td>NaN</td>\n      <td>NaN</td>\n      <td>NaN</td>\n    </tr>\n    <tr>\n      <th>2</th>\n      <td>1</td>\n      <td>cor-ass BVIN</td>\n      <td>ciliated to bp</td>\n      <td>L</td>\n      <td>anterior BV</td>\n      <td>0.83</td>\n      <td>9.5</td>\n      <td>30.6</td>\n      <td>Single simple axon with slight expansion at te...</td>\n      <td>94.7191</td>\n      <td>2</td>\n      <td>21</td>\n      <td>-</td>\n    </tr>\n    <tr>\n      <th>3</th>\n      <td>2</td>\n      <td>cor-ass BVIN</td>\n      <td>ciliated to bp</td>\n      <td>L</td>\n      <td>anterior BV</td>\n      <td>1.25</td>\n      <td>16.5</td>\n      <td>32.8</td>\n      <td>Simple cell with single unbranched axon to pos...</td>\n      <td>100.91</td>\n      <td>12</td>\n      <td>14</td>\n      <td>2</td>\n    </tr>\n    <tr>\n      <th>4</th>\n      <td>3</td>\n      <td>BVIN</td>\n      <td>ciliated</td>\n      <td>L</td>\n      <td>anterior BV</td>\n      <td>0.17</td>\n      <td>23.2</td>\n      <td>31.9</td>\n      <td>Simple cell body with single axon that expands...</td>\n      <td>24.3679</td>\n      <td>6</td>\n      <td>5</td>\n      <td>2</td>\n    </tr>\n  </tbody>\n</table>\n</div>"
     },
     "execution_count": 13,
     "metadata": {},
     "output_type": "execute_result"
    }
   ],
   "source": [
    "cell_bio_data = dfs['cell_bio_data'][0].iloc[:, list(range(13))]\n",
    "man_cols = ['Cell ID', 'Cell Type', 'Ciliated', 'Side', 'Brain Region', 'X', 'Y', 'Z', 'Morphology Description', 'Cell Body Volume', 'Number of Pre-Synaptic Sites', 'Number of Post-Synaptic Sites', 'Number of Putative Gap Junctions']\n",
    "cell_bio_data.columns = man_cols\n",
    "cell_bio_data.drop(cell_bio_data.index[[0, 1]])\n",
    "def str_strip(item):\n",
    "    item = str(item)\n",
    "    item.strip()\n",
    "    return item\n",
    "cell_bio_data['Cell ID'] = pd.DataFrame(cell_bio_data['Cell ID']).applymap(str_strip)\n",
    "cell_bio_data.head()"
   ],
   "metadata": {
    "collapsed": false,
    "pycharm": {
     "name": "#%%\n"
    }
   }
  },
  {
   "cell_type": "code",
   "execution_count": 14,
   "outputs": [],
   "source": [
    "# assign node attributes\n",
    "for n in graph.nodes:\n",
    "    try:\n",
    "        data = cell_bio_data.loc[cell_bio_data['Cell ID'] == n]\n",
    "    except KeyError:\n",
    "        continue\n",
    "    data = data.to_dict()\n",
    "    data.pop('Cell ID')\n",
    "    graph.add_node(n, attr_dict=data)\n"
   ],
   "metadata": {
    "collapsed": false,
    "pycharm": {
     "name": "#%%\n"
    }
   }
  },
  {
   "cell_type": "markdown",
   "source": [
    "put in json spec \n"
   ],
   "metadata": {
    "collapsed": false
   }
  },
  {
   "cell_type": "code",
   "execution_count": null,
   "outputs": [],
   "source": [],
   "metadata": {
    "collapsed": false,
    "pycharm": {
     "name": "#%%\n"
    }
   }
  }
 ],
 "metadata": {
  "kernelspec": {
   "display_name": "Python 3",
   "language": "python",
   "name": "python3"
  },
  "language_info": {
   "codemirror_mode": {
    "name": "ipython",
    "version": 2
   },
   "file_extension": ".py",
   "mimetype": "text/x-python",
   "name": "python",
   "nbconvert_exporter": "python",
   "pygments_lexer": "ipython2",
   "version": "2.7.6"
  }
 },
 "nbformat": 4,
 "nbformat_minor": 0
}