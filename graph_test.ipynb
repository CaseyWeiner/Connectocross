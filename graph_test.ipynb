{
 "cells": [
  {
   "cell_type": "markdown",
   "source": [
    "Simple notebook to generate a variety of graphs and store them in the file spec.\n"
   ],
   "metadata": {
    "collapsed": false,
    "pycharm": {
     "name": "#%% md\n"
    }
   }
  },
  {
   "cell_type": "code",
   "execution_count": 1,
   "outputs": [],
   "source": [
    "import networkx as nx\n",
    "import random\n",
    "from graph import GraphIO\n"
   ],
   "metadata": {
    "collapsed": false,
    "pycharm": {
     "name": "#%%\n"
    }
   }
  },
  {
   "cell_type": "markdown",
   "source": [
    "Generate an unattributed ten node star graph and write it. This will result in an archive called `basic_unattributed.mgraph` conatining one directory `graph_0` which in turn has as single `edgelist.csv` file"
   ],
   "metadata": {
    "collapsed": false,
    "pycharm": {
     "name": "#%% md\n"
    }
   }
  },
  {
   "cell_type": "code",
   "execution_count": 2,
   "outputs": [],
   "source": [
    "#load default networkx graph\n",
    "g = nx.generators.star_graph(10)"
   ],
   "metadata": {
    "collapsed": false,
    "pycharm": {
     "name": "#%%\n"
    }
   }
  },
  {
   "cell_type": "code",
   "execution_count": 3,
   "outputs": [],
   "source": [
    "# create metagraph object with a single graph, no node attributes and no edge attributes\n",
    "#attempt dump\n",
    "GraphIO.dump(g, './ExampleGraphs/basic_unattributed.json')"
   ],
   "metadata": {
    "collapsed": false,
    "pycharm": {
     "name": "#%%\n"
    }
   }
  },
  {
   "cell_type": "markdown",
   "source": [
    "We can also store node attributes for each graph. Next we load the graph we just created, add betweenness as a node attribute and dump it to disk again.\n",
    "This will result in an archive called `basic_node_att.mgraph` with a file call `nodeatt_betweenness.json` being added to the `graph_0 directory` along with the same edgelist as above.\n"
   ],
   "metadata": {
    "collapsed": false,
    "pycharm": {
     "name": "#%% md\n"
    }
   }
  },
  {
   "cell_type": "code",
   "execution_count": 4,
   "outputs": [],
   "source": [
    "# load the star graph\n",
    "g, _, _, _ = GraphIO.load(\"./ExampleGraphs/basic_unattributed.json\")"
   ],
   "metadata": {
    "collapsed": false,
    "pycharm": {
     "name": "#%%\n"
    }
   }
  },
  {
   "cell_type": "code",
   "execution_count": 5,
   "outputs": [],
   "source": [
    "# add betweeness attribute to nodes\n",
    "bb = nx.betweenness_centrality(g)\n",
    "nx.set_node_attributes(g, bb, \"betweenness\")"
   ],
   "metadata": {
    "collapsed": false,
    "pycharm": {
     "name": "#%%\n"
    }
   }
  },
  {
   "cell_type": "code",
   "execution_count": 6,
   "outputs": [],
   "source": [
    "# dump\n",
    "GraphIO.dump(g, './ExampleGraphs/basic_node_att.json')"
   ],
   "metadata": {
    "collapsed": false,
    "pycharm": {
     "name": "#%%\n"
    }
   }
  },
  {
   "cell_type": "markdown",
   "source": [
    "Similarly, we can add arbitrary edge attributes to the graph. We will add a 'color' attribute to a few of the edges in the star graph.\n",
    "This will result in an archive called `basic_attributed.mgraph` with the same structure as `basic_node_att.mgraph`, but with and new\n",
    "file called `edgeatt_color.json` in the `graph_0` directory."
   ],
   "metadata": {
    "collapsed": false,
    "pycharm": {
     "name": "#%% md\n"
    }
   }
  },
  {
   "cell_type": "code",
   "execution_count": 7,
   "outputs": [],
   "source": [
    "# load\n",
    "g, edgeatts, nodeatts, graphatts = GraphIO.load('./ExampleGraphs/basic_node_att.json')\n",
    "att = {(0, 1): \"red\",\n",
    "       (0, 2): \"blue\",\n",
    "       (0, 5): \"red\",\n",
    "       (0, 8): \"blue\"}\n",
    "nx.set_edge_attributes(g, att, \"color\")"
   ],
   "metadata": {
    "collapsed": false,
    "pycharm": {
     "name": "#%%\n"
    }
   }
  },
  {
   "cell_type": "code",
   "execution_count": 8,
   "outputs": [],
   "source": [
    "# dump\n",
    "GraphIO.dump(g, './ExampleGraphs/basic_attributed.json')"
   ],
   "metadata": {
    "collapsed": false,
    "pycharm": {
     "name": "#%%\n"
    }
   }
  },
  {
   "cell_type": "markdown",
   "source": [
    "An arbitrary number of different node and edge attribute types can be added to each graph, each will result in a new `.json` file in that graph's directory."
   ],
   "metadata": {
    "collapsed": false,
    "pycharm": {
     "name": "#%% md\n"
    }
   }
  },
  {
   "cell_type": "markdown",
   "source": [
    "We can also add weights to the graph. Weights are stored in networkx as a special edge attribute called 'weight'. The file spec writes weights,\n",
    "if they exist, as a third column in `edgelist.csv`."
   ],
   "metadata": {
    "collapsed": false
   }
  },
  {
   "cell_type": "code",
   "execution_count": 9,
   "outputs": [],
   "source": [
    "for edge in g.edges:\n",
    "    g[edge[0]][edge[1]]['weight'] =random.randint(0, 5)"
   ],
   "metadata": {
    "collapsed": false,
    "pycharm": {
     "name": "#%%\n"
    }
   }
  },
  {
   "cell_type": "code",
   "execution_count": 10,
   "outputs": [],
   "source": [
    "GraphIO.dump(g, './ExampleGraphs/weighted_attributed.json')\n"
   ],
   "metadata": {
    "collapsed": false,
    "pycharm": {
     "name": "#%%\n"
    }
   }
  },
  {
   "cell_type": "markdown",
   "source": [
    "We can  have multiple attributes per node or edge"
   ],
   "metadata": {
    "collapsed": false,
    "pycharm": {
     "name": "#%% md\n"
    }
   }
  },
  {
   "cell_type": "code",
   "execution_count": 11,
   "outputs": [],
   "source": [
    "# load\n",
    "g, edgeatts, nodeatts, graphatts = GraphIO.load('./ExampleGraphs/weighted_attributed.json')\n",
    "att = {(0, 5): (2018, 2010, 2005),\n",
    "       (0, 6): (2000,),\n",
    "       (0, 2): (2020, 1999),\n",
    "       }\n",
    "nx.set_edge_attributes(g, att, \"years\")\n",
    "GraphIO.dump(g, './ExampleGraphs/weighted_attributed_2.json')"
   ],
   "metadata": {
    "collapsed": false,
    "pycharm": {
     "name": "#%%\n"
    }
   }
  },
  {
   "cell_type": "markdown",
   "source": [
    "We can also store multigraphs."
   ],
   "metadata": {
    "collapsed": false,
    "pycharm": {
     "name": "#%% md\n"
    }
   }
  },
  {
   "cell_type": "code",
   "execution_count": 12,
   "outputs": [
    {
     "data": {
      "text/plain": "1"
     },
     "execution_count": 12,
     "metadata": {},
     "output_type": "execute_result"
    }
   ],
   "source": [
    "g, _, _, _ = GraphIO.load('./ExampleGraphs/weighted_attributed_2.json')\n",
    "\n",
    "gm = nx.MultiGraph(g)\n",
    "\n",
    "# add new colored edges\n",
    "gm.add_edge(0, 1, color='green', weight=1)\n",
    "gm.add_edge(5, 6, key=1, color='red', weight=3)\n",
    "gm.add_edge(1, 5, key=1, color='blue', weight=8)\n",
    "gm.add_edge(6, 2, key=1, color='yellow', weight=1)\n",
    "gm.add_edge(0, 2, color='green', weight=2)"
   ],
   "metadata": {
    "collapsed": false,
    "pycharm": {
     "name": "#%%\n"
    }
   }
  },
  {
   "cell_type": "markdown",
   "source": [
    "Now when we dump the multigraph, we will create an archive with both a `graph_0` and `graph_1` directory. Each will have an edgelist and attribute `.json` files.\n"
   ],
   "metadata": {
    "collapsed": false,
    "pycharm": {
     "name": "#%% md\n"
    }
   }
  },
  {
   "cell_type": "code",
   "execution_count": 13,
   "outputs": [],
   "source": [
    "GraphIO.dump(gm, './ExampleGraphs/weighted_attributed_multigraph.json')\n"
   ],
   "metadata": {
    "collapsed": false,
    "pycharm": {
     "name": "#%%\n"
    }
   }
  },
  {
   "cell_type": "markdown",
   "source": [
    "when we load the multigraph again, we can convert it to a list of graphs:"
   ],
   "metadata": {
    "collapsed": false,
    "pycharm": {
     "name": "#%% md\n"
    }
   }
  },
  {
   "cell_type": "code",
   "execution_count": 14,
   "outputs": [
    {
     "data": {
      "text/plain": "<Figure size 432x288 with 2 Axes>",
      "image/png": "[encoded data removed]"
     },
     "metadata": {},
     "output_type": "display_data"
    }
   ],
   "source": [
    "g, _, _, _ = GraphIO.load('./ExampleGraphs/weighted_attributed_multigraph.json')\n",
    "import matplotlib.pyplot as plt\n",
    "graphs = GraphIO.multigraph_to_list(g)\n",
    "fig = plt.figure()\n",
    "plt.subplot(1, 2, 1)\n",
    "nx.draw(graphs[0])\n",
    "plt.subplot(1, 2, 2)\n",
    "nx.draw(graphs[1])\n",
    "plt.show()"
   ],
   "metadata": {
    "collapsed": false,
    "pycharm": {
     "name": "#%%\n"
    }
   }
  },
  {
   "cell_type": "code",
   "execution_count": 16,
   "outputs": [
    {
     "name": "stdout",
     "output_type": "stream",
     "text": [
      "done\n"
     ]
    }
   ],
   "source": [
    "g_dict = {'one': graphs[0], 'two': graphs[1]}\n",
    "# try converting back to multigraph\n",
    "mg = GraphIO.list_to_multigraph(g_dict)\n",
    "print(\"done\")\n",
    "\n"
   ],
   "metadata": {
    "collapsed": false,
    "pycharm": {
     "name": "#%%\n"
    }
   }
  }
 ],
 "metadata": {
  "kernelspec": {
   "display_name": "Python 3",
   "language": "python",
   "name": "python3"
  },
  "language_info": {
   "codemirror_mode": {
    "name": "ipython",
    "version": 2
   },
   "file_extension": ".py",
   "mimetype": "text/x-python",
   "name": "python",
   "nbconvert_exporter": "python",
   "pygments_lexer": "ipython2",
   "version": "2.7.6"
  }
 },
 "nbformat": 4,
 "nbformat_minor": 0
}