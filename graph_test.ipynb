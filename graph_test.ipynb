{
 "cells": [
  {
   "cell_type": "markdown",
   "source": [
    "Simple notebook to generate a variety of graphs and store them in the file spec.\n"
   ],
   "metadata": {
    "collapsed": false,
    "pycharm": {
     "name": "#%% md\n"
    }
   }
  },
  {
   "cell_type": "code",
   "execution_count": 1,
   "outputs": [],
   "source": [
    "import numpy as np\n",
    "import networkx as nx\n",
    "from graph import Metagraph\n"
   ],
   "metadata": {
    "collapsed": false,
    "pycharm": {
     "name": "#%%\n"
    }
   }
  },
  {
   "cell_type": "markdown",
   "source": [
    "Generate an unattributed ten node star graph and write it. This will result in an archive called `basic_unattributed.mgraph` conatining one directory `graph_0` which in turn has as single `edgelist.csv` file"
   ],
   "metadata": {
    "collapsed": false,
    "pycharm": {
     "name": "#%% md\n"
    }
   }
  },
  {
   "cell_type": "code",
   "execution_count": 2,
   "outputs": [],
   "source": [
    "#load default networkx graph\n",
    "g = nx.generators.star_graph(10)"
   ],
   "metadata": {
    "collapsed": false,
    "pycharm": {
     "name": "#%%\n"
    }
   }
  },
  {
   "cell_type": "code",
   "execution_count": 3,
   "outputs": [],
   "source": [
    "# create metagraph object with a single graph, no node attributes and no edge attributes\n",
    "mg = Metagraph([g])\n",
    "#attempt dump\n",
    "mg.dump('./ExampleGraphs/basic_unattributed.mgraph')"
   ],
   "metadata": {
    "collapsed": false,
    "pycharm": {
     "name": "#%%\n"
    }
   }
  },
  {
   "cell_type": "markdown",
   "source": [
    "We can also store node atributes for each graph. Next we load the graph we just created, add betweenness as a node attribute and dump it to disk again.\n",
    "This will result in an archive called `basic_node_att.mgraph` with a file call `nodeatt_betweenness.json` being added to the `graph_0 directory` along with the same edgelist as above.\n"
   ],
   "metadata": {
    "collapsed": false,
    "pycharm": {
     "name": "#%% md\n"
    }
   }
  },
  {
   "cell_type": "code",
   "execution_count": 4,
   "outputs": [],
   "source": [
    "# load the star graph\n",
    "mg.load(\"./ExampleGraphs/basic_unattributed.mgraph\")"
   ],
   "metadata": {
    "collapsed": false,
    "pycharm": {
     "name": "#%%\n"
    }
   }
  },
  {
   "cell_type": "code",
   "execution_count": 5,
   "outputs": [],
   "source": [
    "# add betweeness attribute to nodes\n",
    "bb = nx.betweenness_centrality(mg.nx_obj[0])\n",
    "nx.set_node_attributes(mg.nx_obj[0], bb, \"betweenness\")\n",
    "\n",
    "# since networkx doesn't track attribute keys used, we must track it in the metagraph class.\n",
    "mg.node_att_names[0].add('betweenness')"
   ],
   "metadata": {
    "collapsed": false,
    "pycharm": {
     "name": "#%%\n"
    }
   }
  },
  {
   "cell_type": "code",
   "execution_count": 6,
   "outputs": [],
   "source": [
    "# dump\n",
    "mg.dump('./ExampleGraphs/basic_node_att.mgraph')"
   ],
   "metadata": {
    "collapsed": false,
    "pycharm": {
     "name": "#%%\n"
    }
   }
  },
  {
   "cell_type": "markdown",
   "source": [
    "Similarly, we can add arbitrary edge attributes to the graph. We will add a 'color' attribute to a few of the edges in the star graph.\n",
    "This will result in an archive called `basic_attributed.mgraph` with the same structure as `basic_node_att.mgraph`, but with and new\n",
    "file called `edgeatt_color.json` in the `graph_0` directory."
   ],
   "metadata": {
    "collapsed": false,
    "pycharm": {
     "name": "#%% md\n"
    }
   }
  },
  {
   "cell_type": "code",
   "execution_count": 7,
   "outputs": [],
   "source": [
    "# load\n",
    "mg.load('./ExampleGraphs/basic_node_att.mgraph')\n",
    "att = {(0, 1): \"red\",\n",
    "       (0, 2): \"blue\",\n",
    "       (0, 5): \"red\",\n",
    "       (0, 8): \"blue\"}\n",
    "nx.set_edge_attributes(mg.nx_obj[0], att, \"color\")\n",
    "# as above, we need to track the edge attribute keys used.\n",
    "mg.edge_att_names[0].add(\"color\")"
   ],
   "metadata": {
    "collapsed": false,
    "pycharm": {
     "name": "#%%\n"
    }
   }
  },
  {
   "cell_type": "code",
   "execution_count": 8,
   "outputs": [],
   "source": [
    "# dump\n",
    "mg.dump('./ExampleGraphs/basic_attributed.mgraph')"
   ],
   "metadata": {
    "collapsed": false,
    "pycharm": {
     "name": "#%%\n"
    }
   }
  },
  {
   "cell_type": "markdown",
   "source": [
    "An arbitrary number of different node and edge attribute types can be added to each graph, each will result in a new `.json` file in that graph's directory.\n"
   ],
   "metadata": {
    "collapsed": false,
    "pycharm": {
     "name": "#%% md\n"
    }
   }
  },
  {
   "cell_type": "markdown",
   "source": [
    "We can also store multigraphs by have more than one graph directory in the `.mgraph` archive."
   ],
   "metadata": {
    "collapsed": false,
    "pycharm": {
     "name": "#%% md\n"
    }
   }
  },
  {
   "cell_type": "code",
   "execution_count": 10,
   "outputs": [],
   "source": [
    "mg.load('./ExampleGraphs/basic_attributed.mgraph')\n",
    "g = mg.nx_obj[0]\n",
    "g2 = g.copy()\n",
    "\n",
    "# add new colored edges\n",
    "g2.add_edge(1, 2, color='green')\n",
    "g2.add_edge(5, 6, color='red')\n",
    "g2.add_edge(6, 2, color='green')\n",
    "\n",
    "# recalculate node betweenness\n",
    "bb = nx.betweenness_centrality(g2)\n",
    "nx.set_node_attributes(g2, bb, \"betweenness\")\n",
    "\n",
    "# create new Metagraph object, let it interpolate attribute names this time.\n",
    "mg = Metagraph([g, g2], interpolate_att=True)"
   ],
   "metadata": {
    "collapsed": false,
    "pycharm": {
     "name": "#%%\n"
    }
   }
  },
  {
   "cell_type": "markdown",
   "source": [
    "Now when we dump the multigraph, we will create an archive with both a `graph_0` and `graph_1` directory. Each will have an edgelist and attribute `.json` files.\n"
   ],
   "metadata": {
    "collapsed": false,
    "pycharm": {
     "name": "#%% md\n"
    }
   }
  },
  {
   "cell_type": "code",
   "execution_count": 11,
   "outputs": [],
   "source": [
    "mg.dump('./ExampleGraphs/basic_attributed_multigraph.mgraph')\n"
   ],
   "metadata": {
    "collapsed": false,
    "pycharm": {
     "name": "#%%\n"
    }
   }
  },
  {
   "cell_type": "markdown",
   "source": [
    "when we load the multigraph again, we will maintain the same ordering between graphs."
   ],
   "metadata": {
    "collapsed": false,
    "pycharm": {
     "name": "#%% md\n"
    }
   }
  },
  {
   "cell_type": "code",
   "execution_count": 16,
   "outputs": [
    {
     "data": {
      "text/plain": "<Figure size 432x288 with 2 Axes>",
      "image/png": "[encoded data removed]"
     },
     "metadata": {},
     "output_type": "display_data"
    }
   ],
   "source": [
    "mg.load('./ExampleGraphs/basic_attributed_multigraph.mgraph')\n",
    "import matplotlib.pyplot as plt\n",
    "fig = plt.figure()\n",
    "plt.subplot(1, 2, 1)\n",
    "nx.draw(mg.nx_obj[0])\n",
    "plt.subplot(1, 2, 2)\n",
    "nx.draw(mg.nx_obj[1])\n",
    "plt.show()\n"
   ],
   "metadata": {
    "collapsed": false,
    "pycharm": {
     "name": "#%%\n"
    }
   }
  }
 ],
 "metadata": {
  "kernelspec": {
   "display_name": "Python 3",
   "language": "python",
   "name": "python3"
  },
  "language_info": {
   "codemirror_mode": {
    "name": "ipython",
    "version": 2
   },
   "file_extension": ".py",
   "mimetype": "text/x-python",
   "name": "python",
   "nbconvert_exporter": "python",
   "pygments_lexer": "ipython2",
   "version": "2.7.6"
  }
 },
 "nbformat": 4,
 "nbformat_minor": 0
}