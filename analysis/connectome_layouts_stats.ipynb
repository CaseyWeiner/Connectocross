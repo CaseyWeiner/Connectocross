{
 "cells": [
  {
   "cell_type": "code",
   "execution_count": 1,
   "id": "suffering-adrian",
   "metadata": {},
   "outputs": [],
   "source": [
    "import os\n",
    "import sys\n",
    "import matplotlib.pyplot as plt\n",
    "\n",
    "sys.path.append(\"../\")"
   ]
  },
  {
   "cell_type": "code",
   "execution_count": 2,
   "id": "coordinate-wireless",
   "metadata": {},
   "outputs": [],
   "source": [
    "import graspologic as gr\n",
    "from graspologic import layouts\n",
    "import numpy as np\n",
    "import pandas as pd\n",
    "import networkx as nx\n",
    "from graph import GraphIO\n",
    "from apriori_sbm_code import generate_bic"
   ]
  },
  {
   "cell_type": "markdown",
   "id": "absolute-march",
   "metadata": {},
   "source": [
    "## Ciona Intestinalis Larval Connectome ##\n",
    "\n",
    "A very detailed connectome create via careful EM imaging of a the ascidian tadpole larva. Multiple hermaphroditic individuals were imaged. The original study was looking for topological asymetries between hemispheres in Ciona's CNS. The connectome includes mostly CNS Neurons. "
   ]
  },
  {
   "cell_type": "code",
   "execution_count": 3,
   "id": "average-stereo",
   "metadata": {},
   "outputs": [],
   "source": [
    "path = '../json_connectomes/ciona.json'\n",
    "graph, _, _, _ = GraphIO.load(path)"
   ]
  },
  {
   "cell_type": "code",
   "execution_count": null,
   "id": "civilian-antique",
   "metadata": {},
   "outputs": [],
   "source": []
  }
 ],
 "metadata": {
  "kernelspec": {
   "display_name": "PyCharm (graspologic)",
   "language": "python",
   "name": "pycharm-372e3f5b"
  },
  "language_info": {
   "codemirror_mode": {
    "name": "ipython",
    "version": 3
   },
   "file_extension": ".py",
   "mimetype": "text/x-python",
   "name": "python",
   "nbconvert_exporter": "python",
   "pygments_lexer": "ipython3",
   "version": "3.7.9"
  }
 },
 "nbformat": 4,
 "nbformat_minor": 5
}
