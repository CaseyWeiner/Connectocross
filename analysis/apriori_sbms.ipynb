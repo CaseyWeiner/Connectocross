{
 "cells": [
  {
   "cell_type": "markdown",
   "metadata": {
    "collapsed": true,
    "pycharm": {
     "name": "#%% md\n"
    }
   },
   "source": [
    "## Comparison: a-Priori SBM Fitting with Different Groupings ##\n",
    "\n",
    "It is often desirable to create models of data so we can generate new samples, learn something about the data' structure,\n",
    "or for use in some larger analysis. SBM models define different connection probabilities for different communities in\n",
    "a graph.\n",
    "\n",
    "Here we enforce a community structure a-priori based a some connectome attributes or combinations thereof, and fit an SBM.\n",
    "In this case, the connection probability between two blocks is simply the total number of observed connections between them,\n",
    "divided by the total number of possible connections between them.\n",
    "\n",
    "We fit these SBMs using different attributes or combinations of attributes from the connectome, and then compute the\n",
    "BIC (Bayesian Information Criterion) for each model. This gives us na idea of which attributes best explain the topological\n",
    "structure of the connectome.\n",
    "\n",
    "For consistency, we use the attributes `hemisphere` (the side of the brain a neuron is on), `cell_type` (the high-level\n",
    "classification of a neuron as interneuron, sensory, or motor) and their combination as groups for fitting. The analysis\n",
    "is only preformed on the Ciona Intestinalis Connectome, two C. Elegans Worm Wiring Connectomes, and the 8 C. Elegans\n",
    "Developmental Connectomes, because only these have both these attributes defined.\n",
    "\n",
    "*Note that the code to do the actual SBM fitting is located in `apriori_sbms.py`*"
   ]
  },
  {
   "cell_type": "code",
   "execution_count": null,
   "outputs": [],
   "source": [
    "import os\n",
    "import sys\n",
    "import matplotlib.pyplot as plt\n",
    "sys.path.append(\"../\")\n",
    "import graspologic as gr\n",
    "from graspologic import layouts\n",
    "import numpy as np\n",
    "import pandas as pd\n",
    "import networkx as nx\n",
    "from graph import GraphIO\n",
    "from apriori_sbm_code import fit_apriori_sbm"
   ],
   "metadata": {
    "collapsed": false,
    "pycharm": {
     "name": "#%%\n"
    }
   }
  },
  {
   "cell_type": "markdown",
   "source": [
    "## Ciona Intestinalis ##\n",
    "We'll start with the single Ciona Connectome. First we load the data:"
   ],
   "metadata": {
    "collapsed": false,
    "pycharm": {
     "name": "#%% md\n"
    }
   }
  },
  {
   "cell_type": "code",
   "execution_count": null,
   "outputs": [],
   "source": [
    "path = '../json_connectomes/ciona.json'\n",
    "ciona_connectome, _, _, _ = GraphIO.load(path)"
   ],
   "metadata": {
    "collapsed": false,
    "pycharm": {
     "name": "#%%\n"
    }
   }
  },
  {
   "cell_type": "markdown",
   "source": [
    "Now we'll fit an SBM for each grouping"
   ],
   "metadata": {
    "collapsed": false,
    "pycharm": {
     "name": "#%% md\n"
    }
   }
  },
  {
   "cell_type": "code",
   "execution_count": null,
   "outputs": [],
   "source": [
    "# In Ciona, Hemisphere is called side and cell_type is called annotation\n",
    "groups = [['Side'], ['Annotation'], ['Side', 'Annotation']]\n",
    "rows = {'Ciona Intestinalis': {}}\n",
    "for group in groups:\n",
    "    rows['Ciona Intestinalis'][str(group)] = fit_apriori_sbm(ciona_connectome, group, plot_sbms=False)\n",
    "ciona_results = pd.DataFrame.from_dict({(i,j): rows[i][j]\n",
    "                           for i in rows.keys()\n",
    "                           for j in rows[i].keys()},\n",
    "                       orient='index')\n",
    "ciona_results.head()"
   ],
   "metadata": {
    "collapsed": false,
    "pycharm": {
     "name": "#%%\n"
    }
   }
  },
  {
   "cell_type": "markdown",
   "source": [
    "Great, now lets plot the BIC for different groupings:"
   ],
   "metadata": {
    "collapsed": false,
    "pycharm": {
     "name": "#%% md\n"
    }
   }
  },
  {
   "cell_type": "code",
   "execution_count": null,
   "outputs": [],
   "source": [
    "fig, ax = plt.subplots(2, 1)\n",
    "out_index = ciona_results.index.levels[0]\n",
    "for i, key in enumerate(out_index):\n",
    "    data = ciona_results.loc[key]\n",
    "    ax[0].scatter(data['bic'].index, data['bic'], label=key)\n",
    "    ax[1].scatter(data['liklihood'].index, data['liklihood'], label=key)\n",
    "    ax[0].set(xlabel='Group', ylabel='-BIC')\n",
    "    ax[1].set(xlabel='Group', ylabel='Likelihood')\n",
    "fig.suptitle('BIC and Likelihood: Witvilet at Different Developmental Stages')"
   ],
   "metadata": {
    "collapsed": false,
    "pycharm": {
     "name": "#%%\n"
    }
   }
  },
  {
   "cell_type": "markdown",
   "source": [
    "Interesting, it appears annotation has the best BIC but the worst liklihood. This is\n",
    "probably because annotation has much fewer parameters than the other groupings. (For Ciona\n",
    "'Side' is broken into 11 groupings instead of just 'Left' and 'Right'). Therefore, based on\n",
    "the BIC, annotation explains the structure better, and the other groupings are likely\n",
    "fitting noise."
   ],
   "metadata": {
    "collapsed": false
   }
  },
  {
   "cell_type": "markdown",
   "source": [
    "## C. Elegans Developmental Conectomes (Witviliet) ##\n",
    "\n",
    "We will preform this analysis for all 8 developmental stages at once."
   ],
   "metadata": {
    "collapsed": false,
    "pycharm": {
     "name": "#%% md\n"
    }
   }
  },
  {
   "cell_type": "code",
   "execution_count": null,
   "outputs": [],
   "source": [
    "# load some elegans witvilet data\n",
    "base = '../c_elegans/witvilet2020/graphs/'\n",
    "graph_files = sorted(os.listdir(base))\n",
    "wit_connectomes = []\n",
    "for f in graph_files:\n",
    "    # These contain multiple synapse types, and thus can have multiedges and need to be flattened.\n",
    "    # Alternatively, we could preform the analysis separately for each synapse type\n",
    "    wit_connectomes.append(GraphIO.flatten_multigraph(GraphIO.load(os.path.join(base, f))[0]))"
   ],
   "metadata": {
    "collapsed": false,
    "pycharm": {
     "name": "#%%\n"
    }
   }
  },
  {
   "cell_type": "markdown",
   "source": [
    "Now we will fit sbms for each grouping for each connectome."
   ],
   "metadata": {
    "collapsed": false,
    "pycharm": {
     "name": "#%% md\n"
    }
   }
  },
  {
   "cell_type": "code",
   "execution_count": null,
   "outputs": [],
   "source": [
    "groups = [[\"hemisphere\"], [\"cell_type0\"], [\"hemisphere\", \"cell_type0\"]]\n",
    "rows = {}\n",
    "for i in range(len(wit_connectomes)):\n",
    "    g_row = {}\n",
    "    for group in groups:\n",
    "        g_row[str(group)] = fit_apriori_sbm(wit_connectomes[i], group, plot_sbms=False)\n",
    "    rows['witvilet_' + str(i)] = g_row\n",
    "wit_results = pd.DataFrame.from_dict({(i,j): rows[i][j]\n",
    "                           for i in rows.keys()\n",
    "                           for j in rows[i].keys()},\n",
    "                       orient='index')\n",
    "wit_results.head(24)\n"
   ],
   "metadata": {
    "collapsed": false,
    "pycharm": {
     "name": "#%%\n"
    }
   }
  },
  {
   "cell_type": "markdown",
   "source": [
    "Let's plot the BIC and Likelihood"
   ],
   "metadata": {
    "collapsed": false
   }
  },
  {
   "cell_type": "code",
   "execution_count": null,
   "outputs": [],
   "source": [
    "fig, ax = plt.subplots(8, 2)\n",
    "out_index = wit_results.index.levels[0]\n",
    "colors = ['red', 'blue', 'green', 'orange', 'purple', 'grey', 'cyan', 'pink']\n",
    "for i, key in enumerate(out_index):\n",
    "    data = wit_results.loc[key]\n",
    "    ax[i, 0].scatter(data['bic'].index, data['bic'], label=key, color=colors[i])\n",
    "    ax[i, 1].scatter(data['liklihood'].index, data['liklihood'], label=key, color=colors[i])\n",
    "    ax[i, 0].set(xlabel='Groups, stage ' + str(i), ylabel='-BIC')\n",
    "    ax[i, 1].set(xlabel='Groups, stage ' + str(i), ylabel='Likelihood')\n",
    "plt.ylabel('-BIC \\t Likelihood')\n",
    "fig.suptitle('BIC and Likelihood: C. Elegans at Different Developmental Stages')\n",
    "fig.set_size_inches(16, 32)"
   ],
   "metadata": {
    "collapsed": false,
    "pycharm": {
     "name": "#%%\n"
    }
   }
  },
  {
   "cell_type": "markdown",
   "source": [
    "Once again, we find that cell type explains the topology the best. This is still not entirely surprising, since the\n",
    "connectivity of interneurons should be very different than that of sensory or motor neurons"
   ],
   "metadata": {
    "collapsed": false
   }
  },
  {
   "cell_type": "markdown",
   "source": [
    "## C. Elegans Male and Hermaphrodite Conectomes (Worm Wiring) ##"
   ],
   "metadata": {
    "collapsed": false,
    "pycharm": {
     "name": "#%% md\n"
    }
   }
  },
  {
   "cell_type": "code",
   "execution_count": null,
   "outputs": [],
   "source": [
    "# load chemical synapse connectome files\n",
    "path_h = '../c_elegans/worm_wiring/graphs/connectome/Hermaphrodite/0.json'\n",
    "path_m = '../c_elegans/worm_wiring/graphs/connectome/Male/0.json'\n",
    "ww_connectomes = []\n",
    "ww_connectomes.append(GraphIO.load(path_h)[0])\n",
    "ww_connectomes.append(GraphIO.load(path_m)[0])"
   ],
   "metadata": {
    "collapsed": false,
    "pycharm": {
     "name": "#%%\n"
    }
   }
  },
  {
   "cell_type": "code",
   "execution_count": null,
   "outputs": [],
   "source": [
    "groups = [[\"hemisphere\"], [\"cell_type0\"], [\"hemisphere\", \"cell_type0\"]]\n",
    "types = ['Hermaphrodite', 'Male']\n",
    "rows = {}\n",
    "for i in range(len(ww_connectomes)):\n",
    "    g_row = {}\n",
    "    for group in groups:\n",
    "        g_row[str(group)] = fit_apriori_sbm(ww_connectomes[i], group, plot_sbms=False)\n",
    "    rows['C. Elegans ' + types[i]] = g_row\n",
    "ww_results = pd.DataFrame.from_dict({(i,j): rows[i][j]\n",
    "                           for i in rows.keys()\n",
    "                           for j in rows[i].keys()},\n",
    "                       orient='index')\n",
    "ww_results.head(6)"
   ],
   "metadata": {
    "collapsed": false,
    "pycharm": {
     "name": "#%%\n"
    }
   }
  },
  {
   "cell_type": "markdown",
   "source": [
    "One last time, we'll plot BIC and Likelihood"
   ],
   "metadata": {
    "collapsed": false
   }
  },
  {
   "cell_type": "code",
   "execution_count": null,
   "outputs": [],
   "source": [
    "fig, ax = plt.subplots(2, 2)\n",
    "out_index = ww_results.index.levels[0]\n",
    "colors = ['red', 'blue']\n",
    "for i, key in enumerate(out_index):\n",
    "    data = ww_results.loc[key]\n",
    "    ax[i, 0].scatter(data['bic'].index, data['bic'], label=key, color=colors[i])\n",
    "    ax[i, 1].scatter(data['liklihood'].index, data['liklihood'], label=key, color=colors[i])\n",
    "    ax[i, 0].set(xlabel='Groups, ' + types[i], ylabel='-BIC')\n",
    "    ax[i, 1].set(xlabel='Groups, ' + types[i], ylabel='Likelihood')\n",
    "plt.ylabel('-BIC \\t Likelihood')\n",
    "fig.suptitle('BIC and Likelihood: Worm Wiring C. Elegans Hermaphrodite and Male')\n",
    "fig.set_size_inches(16, 8)"
   ],
   "metadata": {
    "collapsed": false,
    "pycharm": {
     "name": "#%%\n"
    }
   }
  },
  {
   "cell_type": "markdown",
   "source": [
    "For a third time, cell type groupings get the best BIC, whcih makes sense since this is the same species as the developmental data\n"
   ],
   "metadata": {
    "collapsed": false
   }
  }
 ],
 "metadata": {
  "kernelspec": {
   "display_name": "Python 3",
   "language": "python",
   "name": "python3"
  },
  "language_info": {
   "codemirror_mode": {
    "name": "ipython",
    "version": 2
   },
   "file_extension": ".py",
   "mimetype": "text/x-python",
   "name": "python",
   "nbconvert_exporter": "python",
   "pygments_lexer": "ipython2",
   "version": "2.7.6"
  }
 },
 "nbformat": 4,
 "nbformat_minor": 0
}