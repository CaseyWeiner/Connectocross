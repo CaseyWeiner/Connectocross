{
 "cells": [
  {
   "cell_type": "code",
   "execution_count": 2,
   "metadata": {},
   "outputs": [
    {
     "data": {
      "text/plain": [
       "<bound method NDFrame.head of          Unnamed: 0  bodyId_pre  bodyId_post     roi  weight type_pre  \\\n",
       "0                 0   106979579   1040004619     SAD       1      NaN   \n",
       "1                 1   106979579   2099569651     SAD       1      NaN   \n",
       "2                 2   106979579   2157206476     SAD       1      NaN   \n",
       "3                 3   106979579   2535443901     SAD       1      NaN   \n",
       "4                 4   106979579   5813024910     SAD       1      NaN   \n",
       "...             ...         ...          ...     ...     ...      ...   \n",
       "8034505     8034505  7112626669   5813018847   AL(R)       1      NaN   \n",
       "8034506     8034506  7112626733    327588225  SMP(R)       1      NaN   \n",
       "8034507     8034507  7112626733    330640044  SMP(R)       1      NaN   \n",
       "8034508     8034508  7112626733    357945155  SMP(R)       1      NaN   \n",
       "8034509     8034509  7112626733   5813130028  SMP(R)       1      NaN   \n",
       "\n",
       "        instance_pre type_post instance_post  \n",
       "0           Franken1     CL304       CL304_R  \n",
       "1           Franken1       NaN           NaN  \n",
       "2           Franken1    SAD022      SAD022_R  \n",
       "3           Franken1       NaN           NaN  \n",
       "4           Franken1    SAD022      SAD022_R  \n",
       "...              ...       ...           ...  \n",
       "8034505          NaN     vLN27       vLN27_R  \n",
       "8034506          NaN    SMP083      SMP083_R  \n",
       "8034507          NaN    SMP181      SMP181_R  \n",
       "8034508          NaN    SMP119      SMP119_L  \n",
       "8034509          NaN    SMP407      SMP407_R  \n",
       "\n",
       "[8034510 rows x 9 columns]>"
      ]
     },
     "execution_count": 2,
     "metadata": {},
     "output_type": "execute_result"
    }
   ],
   "source": [
    "import pandas as pd\n",
    "import networkx as nx\n",
    "G_Neuprint = nx.DiGraph()\n",
    "df = pd.read_csv('Neuprint_connections.csv')\n",
    "df.head"
   ]
  },
  {
   "cell_type": "code",
   "execution_count": 3,
   "metadata": {},
   "outputs": [],
   "source": [
    "Id_pre = list(df['bodyId_pre'])\n",
    "Id_post = list(df['bodyId_post'])\n",
    "R_l = list(df['roi'])\n",
    "wt = list(df['weight'])\n",
    "t_pre = list(df['type_pre'])\n",
    "ins_pre = list(df['instance_pre'])\n",
    "t_post = list(df['type_post'])\n",
    "ins_post = list(df['instance_post'])"
   ]
  },
  {
   "cell_type": "code",
   "execution_count": 4,
   "metadata": {},
   "outputs": [],
   "source": [
    "n = 0\n",
    "for i in Id_pre:\n",
    "    G_Neuprint.add_edge(Id_pre[n], Id_post[n])\n",
    "    G_Neuprint.edges[Id_pre[n], Id_post[n]]['weight'] = wt[n]\n",
    "    G_Neuprint.edges[Id_pre[n], Id_post[n]]['ROI'] = R_l[n]\n",
    "    G_Neuprint.nodes[Id_pre[n]][\"type_pre\"] = t_pre[n]\n",
    "    G_Neuprint.nodes[Id_pre[n]][\"instance_pre\"] = ins_pre[n]\n",
    "    G_Neuprint.nodes[Id_post[n]][\"type_post\"] = t_post[n]\n",
    "    G_Neuprint.nodes[Id_post[n]][\"instance_post\"] = ins_post[n]\n",
    "    n = n + 1"
   ]
  },
  {
   "cell_type": "code",
   "execution_count": 5,
   "metadata": {},
   "outputs": [
    {
     "data": {
      "text/plain": [
       "<networkx.classes.digraph.DiGraph at 0x2371fbe91c8>"
      ]
     },
     "execution_count": 5,
     "metadata": {},
     "output_type": "execute_result"
    }
   ],
   "source": [
    "G_Neuprint"
   ]
  }
 ],
 "metadata": {
  "kernelspec": {
   "display_name": "Python 3",
   "language": "python",
   "name": "python3"
  },
  "language_info": {
   "codemirror_mode": {
    "name": "ipython",
    "version": 3
   },
   "file_extension": ".py",
   "mimetype": "text/x-python",
   "name": "python",
   "nbconvert_exporter": "python",
   "pygments_lexer": "ipython3",
   "version": "3.7.9"
  }
 },
 "nbformat": 4,
 "nbformat_minor": 4
}
