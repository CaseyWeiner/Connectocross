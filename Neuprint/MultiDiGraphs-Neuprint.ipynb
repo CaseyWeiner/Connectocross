{
 "cells": [
  {
   "cell_type": "code",
   "execution_count": 1,
   "metadata": {},
   "outputs": [
    {
     "data": {
      "text/plain": [
       "<bound method NDFrame.head of          Unnamed: 0  bodyId_pre  bodyId_post     roi  weight type_pre  \\\n",
       "0                 0   106979579   1040004619     SAD       1      NaN   \n",
       "1                 1   106979579   2099569651     SAD       1      NaN   \n",
       "2                 2   106979579   2157206476     SAD       1      NaN   \n",
       "3                 3   106979579   2535443901     SAD       1      NaN   \n",
       "4                 4   106979579   5813024910     SAD       1      NaN   \n",
       "...             ...         ...          ...     ...     ...      ...   \n",
       "8034505     8034505  7112626669   5813018847   AL(R)       1      NaN   \n",
       "8034506     8034506  7112626733    327588225  SMP(R)       1      NaN   \n",
       "8034507     8034507  7112626733    330640044  SMP(R)       1      NaN   \n",
       "8034508     8034508  7112626733    357945155  SMP(R)       1      NaN   \n",
       "8034509     8034509  7112626733   5813130028  SMP(R)       1      NaN   \n",
       "\n",
       "        instance_pre type_post instance_post  \n",
       "0           Franken1     CL304       CL304_R  \n",
       "1           Franken1       NaN           NaN  \n",
       "2           Franken1    SAD022      SAD022_R  \n",
       "3           Franken1       NaN           NaN  \n",
       "4           Franken1    SAD022      SAD022_R  \n",
       "...              ...       ...           ...  \n",
       "8034505          NaN     vLN27       vLN27_R  \n",
       "8034506          NaN    SMP083      SMP083_R  \n",
       "8034507          NaN    SMP181      SMP181_R  \n",
       "8034508          NaN    SMP119      SMP119_L  \n",
       "8034509          NaN    SMP407      SMP407_R  \n",
       "\n",
       "[8034510 rows x 9 columns]>"
      ]
     },
     "execution_count": 1,
     "metadata": {},
     "output_type": "execute_result"
    }
   ],
   "source": [
    "import pandas as pd\n",
    "import networkx as nx\n",
    "import matplotlib.pyplot as plt\n",
    "from graph import GraphIO\n",
    "G_Neuprint = nx.MultiDiGraph()\n",
    "df = pd.read_csv('Neuprint_connections.csv')\n",
    "df_2 = pd.read_csv('Neuprint_neuron_all.csv')\n",
    "df_3 = pd.read_csv('neuPrint_roicounts.csv')\n",
    "df.head"
   ]
  },
  {
   "cell_type": "code",
   "execution_count": 2,
   "metadata": {},
   "outputs": [],
   "source": [
    "Id_pre = list(df['bodyId_pre'])\n",
    "Id_post = list(df['bodyId_post'])\n",
    "R_l = list(df['roi'])\n",
    "wt = list(df['weight'])\n",
    "t_pre = list(df['type_pre'])\n",
    "ins_pre = list(df['instance_pre'])\n",
    "t_post = list(df['type_post'])\n",
    "ins_post = list(df['instance_post'])"
   ]
  },
  {
   "cell_type": "code",
   "execution_count": 3,
   "metadata": {},
   "outputs": [],
   "source": [
    "Id = list(df_2['bodyId'])\n",
    "ins = list(df_2['instance'])\n",
    "tp = list(df_2['type'])\n",
    "pr = list(df_2['pre'])\n",
    "po = list(df_2['post'])\n",
    "\n",
    "s = list(df_2['size'])\n",
    "sta = list(df_2['status'])\n",
    "cro = list(df_2['cropped'])\n",
    "staL= list(df_2['statusLabel'])\n",
    "\n",
    "cBF = list(df_2['cellBodyFiber'])\n",
    "somaR = list(df_2['somaRadius'])\n",
    "somaL = list(df_2['somaLocation'])\n",
    "inR = list(df_2['inputRois'])\n",
    "outR = list(df_2['outputRois'])\n",
    "RInfo = list(df_2['roiInfo'])"
   ]
  },
  {
   "cell_type": "code",
   "execution_count": 4,
   "metadata": {},
   "outputs": [],
   "source": [
    "Id_3 = list(df_3['bodyId'])\n",
    "Rcount_roi = list(df_3['roi'])\n",
    "Rcount_pre = list(df_3['pre'])\n",
    "Rcount_post = list(df_3['post'])"
   ]
  },
  {
   "cell_type": "code",
   "execution_count": 5,
   "metadata": {},
   "outputs": [],
   "source": [
    "n = 0\n",
    "for i in Id:\n",
    "    G_Neuprint.add_node(Id[n])\n",
    "    G_Neuprint.nodes[Id[n]][\"instance\"] = ins[n]\n",
    "    G_Neuprint.nodes[Id[n]][\"type\"] = tp[n]\n",
    "    G_Neuprint.nodes[Id[n]][\"pre\"] = pr[n]\n",
    "    G_Neuprint.nodes[Id[n]][\"post\"] = po[n]\n",
    "    \n",
    "    G_Neuprint.nodes[Id[n]][\"size\"] = s[n]\n",
    "    G_Neuprint.nodes[Id[n]][\"status\"] = sta[n]\n",
    "    G_Neuprint.nodes[Id[n]][\"cropped\"] = cro[n]\n",
    "    G_Neuprint.nodes[Id[n]][\"statusLabel\"] = staL[n]\n",
    "    \n",
    "    G_Neuprint.nodes[Id[n]][\"cellBodyFiber\"] = cBF[n]\n",
    "    G_Neuprint.nodes[Id[n]][\"somaRadius\"] = somaR[n]\n",
    "    G_Neuprint.nodes[Id[n]][\"somaLocation\"] = somaL[n]\n",
    "    G_Neuprint.nodes[Id[n]][\"inputRois\"] = inR[n]\n",
    "    G_Neuprint.nodes[Id[n]][\"outputRois\"] = outR[n]\n",
    "    G_Neuprint.nodes[Id[n]][\"roiInfo\"] = RInfo[n]\n",
    "    n = n + 1"
   ]
  },
  {
   "cell_type": "code",
   "execution_count": 6,
   "metadata": {},
   "outputs": [],
   "source": [
    "n = 0\n",
    "for j in Id_3:\n",
    "    G_Neuprint.nodes[Id_3[n]][\"roicounts_name\"] = Rcount_roi[n]\n",
    "    G_Neuprint.nodes[Id_3[n]][\"roicounts_pre\"] = Rcount_pre[n]\n",
    "    G_Neuprint.nodes[Id_3[n]][\"roicounts_post\"] = Rcount_post[n]\n",
    "    n = n + 1"
   ]
  },
  {
   "cell_type": "code",
   "execution_count": 7,
   "metadata": {
    "scrolled": true
   },
   "outputs": [],
   "source": [
    "n = 0\n",
    "for k in Id_pre:\n",
    "    keys = G_Neuprint.add_edges_from([(Id_pre[n], Id_post[n], {'ROI': R_l[n]}), \n",
    "                                      (Id_pre[n], Id_post[n], {\"weight\": wt[n]})])\n",
    "#    G_Neuprint.add_edge(Id_pre[n], Id_post[n])\n",
    "#    G_Neuprint.edges[Id_pre[n], Id_post[n], 0]['weight'] = wt[n]\n",
    "#    G_Neuprint.edges[Id_pre[n], Id_post[n], 1]['ROI'] = R_l[n]\n",
    "#    G_Neuprint.add_edge(Id_pre[n], Id_post[n], ROI = R_l[n])\n",
    "    G_Neuprint.nodes[Id_pre[n]][\"type_pre\"] = t_pre[n]\n",
    "    G_Neuprint.nodes[Id_pre[n]][\"instance_pre\"] = ins_pre[n]\n",
    "    G_Neuprint.nodes[Id_post[n]][\"type_post\"] = t_post[n]\n",
    "    G_Neuprint.nodes[Id_post[n]][\"instance_post\"] = ins_post[n]\n",
    "    n = n + 1"
   ]
  },
  {
   "cell_type": "code",
   "execution_count": 14,
   "metadata": {},
   "outputs": [
    {
     "ename": "TypeError",
     "evalue": "Must give a MultiGraph or MultiDiGraph to convert_multigraph",
     "output_type": "error",
     "traceback": [
      "\u001b[1;31m---------------------------------------------------------------------------\u001b[0m",
      "\u001b[1;31mTypeError\u001b[0m                                 Traceback (most recent call last)",
      "\u001b[1;32m<ipython-input-14-614098690b16>\u001b[0m in \u001b[0;36m<module>\u001b[1;34m\u001b[0m\n\u001b[0;32m      1\u001b[0m \u001b[1;32mfrom\u001b[0m \u001b[0mgraph\u001b[0m \u001b[1;32mimport\u001b[0m \u001b[0mGraphIO\u001b[0m\u001b[1;33m\u001b[0m\u001b[1;33m\u001b[0m\u001b[0m\n\u001b[1;32m----> 2\u001b[1;33m \u001b[0mgraphs\u001b[0m \u001b[1;33m=\u001b[0m \u001b[0mGraphIO\u001b[0m\u001b[1;33m.\u001b[0m\u001b[0mmultigraph_to_list\u001b[0m\u001b[1;33m(\u001b[0m\u001b[1;33m[\u001b[0m\u001b[0mG_Neuprint\u001b[0m\u001b[1;33m]\u001b[0m\u001b[1;33m)\u001b[0m\u001b[1;33m\u001b[0m\u001b[1;33m\u001b[0m\u001b[0m\n\u001b[0m\u001b[0;32m      3\u001b[0m \u001b[0medge_att_names\u001b[0m \u001b[1;33m=\u001b[0m \u001b[0mGraphIO\u001b[0m\u001b[1;33m.\u001b[0m\u001b[0minfer_edge_attributes\u001b[0m\u001b[1;33m(\u001b[0m\u001b[1;33m[\u001b[0m\u001b[0mG_Neuprint\u001b[0m\u001b[1;33m]\u001b[0m\u001b[1;33m)\u001b[0m\u001b[1;33m\u001b[0m\u001b[1;33m\u001b[0m\u001b[0m\n\u001b[0;32m      4\u001b[0m \u001b[0mnode_att_names\u001b[0m \u001b[1;33m=\u001b[0m \u001b[0mGraphIO\u001b[0m\u001b[1;33m.\u001b[0m\u001b[0minfer_node_attributes\u001b[0m\u001b[1;33m(\u001b[0m\u001b[1;33m[\u001b[0m\u001b[0mG_Neuprint\u001b[0m\u001b[1;33m]\u001b[0m\u001b[1;33m)\u001b[0m\u001b[1;33m\u001b[0m\u001b[1;33m\u001b[0m\u001b[0m\n\u001b[0;32m      5\u001b[0m \u001b[0mgraph_att_names\u001b[0m \u001b[1;33m=\u001b[0m \u001b[0mGraphIO\u001b[0m\u001b[1;33m.\u001b[0m\u001b[0minfer_graph_attributes\u001b[0m\u001b[1;33m(\u001b[0m\u001b[1;33m[\u001b[0m\u001b[0mG_Neuprint\u001b[0m\u001b[1;33m]\u001b[0m\u001b[1;33m)\u001b[0m\u001b[1;33m\u001b[0m\u001b[1;33m\u001b[0m\u001b[0m\n",
      "\u001b[1;32mD:\\JHU\\lesson\\NDD\\Conectomes\\connectocross-file_spec\\graph\\grapgh_io.py\u001b[0m in \u001b[0;36mmultigraph_to_list\u001b[1;34m(mg)\u001b[0m\n\u001b[0;32m     48\u001b[0m             \u001b[0mg_class\u001b[0m \u001b[1;33m=\u001b[0m \u001b[0mnx\u001b[0m\u001b[1;33m.\u001b[0m\u001b[0mDiGraph\u001b[0m\u001b[1;33m\u001b[0m\u001b[1;33m\u001b[0m\u001b[0m\n\u001b[0;32m     49\u001b[0m         \u001b[1;32melse\u001b[0m\u001b[1;33m:\u001b[0m\u001b[1;33m\u001b[0m\u001b[1;33m\u001b[0m\u001b[0m\n\u001b[1;32m---> 50\u001b[1;33m             \u001b[1;32mraise\u001b[0m \u001b[0mTypeError\u001b[0m\u001b[1;33m(\u001b[0m\u001b[1;34m\"Must give a MultiGraph or MultiDiGraph to convert_multigraph\"\u001b[0m\u001b[1;33m)\u001b[0m\u001b[1;33m\u001b[0m\u001b[1;33m\u001b[0m\u001b[0m\n\u001b[0m\u001b[0;32m     51\u001b[0m         \u001b[0mkey_map\u001b[0m \u001b[1;33m=\u001b[0m \u001b[1;33m{\u001b[0m\u001b[1;33m}\u001b[0m\u001b[1;33m\u001b[0m\u001b[1;33m\u001b[0m\u001b[0m\n\u001b[0;32m     52\u001b[0m         \u001b[0mgraphs\u001b[0m \u001b[1;33m=\u001b[0m \u001b[1;33m[\u001b[0m\u001b[1;33m]\u001b[0m\u001b[1;33m\u001b[0m\u001b[1;33m\u001b[0m\u001b[0m\n",
      "\u001b[1;31mTypeError\u001b[0m: Must give a MultiGraph or MultiDiGraph to convert_multigraph"
     ]
    }
   ],
   "source": [
    "from graph import GraphIO\n",
    "graphs = GraphIO.multigraph_to_list([G_Neuprint])\n",
    "edge_att_names = GraphIO.infer_edge_attributes([G_Neuprint])\n",
    "node_att_names = GraphIO.infer_node_attributes([G_Neuprint])\n",
    "graph_att_names = GraphIO.infer_graph_attributes([G_Neuprint])\n",
    "# GraphIO.dump([G_Neuprint], './Neuprint/Neuprint_graph_update031621.json', edge_att_names, node_att_names, graph_att_names)\n",
    "GraphIO.dump(edge_att_names, node_att_names, graph_att_names, [G_Neuprint], './neuPrint/neuPrint_graph_.json')"
   ]
  },
  {
   "cell_type": "code",
   "execution_count": null,
   "metadata": {},
   "outputs": [],
   "source": []
  }
 ],
 "metadata": {
  "kernelspec": {
   "display_name": "Python 3",
   "language": "python",
   "name": "python3"
  },
  "language_info": {
   "codemirror_mode": {
    "name": "ipython",
    "version": 3
   },
   "file_extension": ".py",
   "mimetype": "text/x-python",
   "name": "python",
   "nbconvert_exporter": "python",
   "pygments_lexer": "ipython3",
   "version": "3.7.9"
  }
 },
 "nbformat": 4,
 "nbformat_minor": 4
}
