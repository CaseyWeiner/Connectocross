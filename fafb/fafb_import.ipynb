{
 "metadata": {
  "language_info": {
   "codemirror_mode": {
    "name": "ipython",
    "version": 3
   },
   "file_extension": ".py",
   "mimetype": "text/x-python",
   "name": "python",
   "nbconvert_exporter": "python",
   "pygments_lexer": "ipython3",
   "version": "3.6.13"
  },
  "orig_nbformat": 2,
  "kernelspec": {
   "name": "python3613jvsc74a57bd0a21abf3f463849612db64f4605d23fa1f600feadbdb07eabb76b49c4c71b4232",
   "display_name": "Python 3.6.13 64-bit ('fafb': conda)"
  }
 },
 "nbformat": 4,
 "nbformat_minor": 2,
 "cells": [
  {
   "cell_type": "code",
   "execution_count": 1,
   "metadata": {},
   "outputs": [
    {
     "output_type": "stream",
     "name": "stderr",
     "text": [
      "INFO  : Global CATMAID instance set. Caching is ON. (pymaid)\n",
      "INFO  : Searching for: Paper: Zheng et al 2018 (pymaid)\n"
     ]
    }
   ],
   "source": [
    "import pymaid\n",
    "source = pymaid.CatmaidInstance('https://fafb.catmaid.virtualflybrain.org/' , api_token=None)\n",
    "\n",
    "neurons = pymaid.get_annotated(\"Paper: Zheng et al 2018\") # Paper of interest"
   ]
  },
  {
   "source": [
    "### This step will possibly throw an error depending on the version of pymaid you have. We tested this with the latest version of pymaid from Github, which you can download with `pip3 install git+git://github.com/schlegelp/pymaid@master`"
   ],
   "cell_type": "markdown",
   "metadata": {}
  },
  {
   "source": [
    "## Get Neuron IDs in a List for Indexing"
   ],
   "cell_type": "markdown",
   "metadata": {}
  },
  {
   "cell_type": "code",
   "execution_count": 2,
   "metadata": {},
   "outputs": [],
   "source": [
    "neuron_ids = [j for j in neurons[\"skeleton_ids\"]] # Get neuron IDs\n",
    "\n",
    "old = neuron_ids\n",
    "neuron_ids = []\n",
    "\n",
    "for i in range(len(old)):\n",
    "    neuron_ids.append(old[i][0])"
   ]
  },
  {
   "source": [
    "## Import Connectome"
   ],
   "cell_type": "markdown",
   "metadata": {}
  },
  {
   "cell_type": "code",
   "execution_count": 3,
   "metadata": {},
   "outputs": [],
   "source": [
    "#pymaid.get_partners(neuron_ids)\n",
    "#pymaid.cn_table_from_connectors(neuron_ids)\n",
    "\n",
    "metadata_dict = pymaid.get_annotations(neuron_ids)"
   ]
  },
  {
   "cell_type": "code",
   "execution_count": 4,
   "metadata": {},
   "outputs": [],
   "source": [
    "import matplotlib.pyplot as plt\n",
    "\n",
    "connectome = pymaid.adjacency_matrix(neuron_ids)\n",
    "#connectome = connectome.to_numpy()\n",
    "\n",
    "#from graspologic.plot import heatmap\n",
    "#heatmap(connectome)\n",
    "\n",
    "#plt.show()"
   ]
  },
  {
   "cell_type": "code",
   "execution_count": 6,
   "metadata": {},
   "outputs": [],
   "source": [
    "from grapgh_io import GraphIO\n",
    "import networkx as nx\n",
    "\n",
    "connectome_nx = nx.from_pandas_adjacency(connectome)"
   ]
  },
  {
   "cell_type": "code",
   "execution_count": 24,
   "metadata": {},
   "outputs": [],
   "source": [
    "for i in list(connectome_nx.nodes):\n",
    "    connectome_nx.nodes[i]['annotation'] = metadata_dict[\"{}\".format(i)]\n",
    "\n",
    "G = GraphIO.dump(connectome_nx, \"./fafb.json\")"
   ]
  }
 ]
}